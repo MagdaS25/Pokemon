{
 "cells": [
  {
   "cell_type": "code",
   "id": "initial_id",
   "metadata": {
    "collapsed": true,
    "ExecuteTime": {
     "end_time": "2025-04-26T11:38:15.866750Z",
     "start_time": "2025-04-26T11:38:15.863522Z"
    }
   },
   "source": [
    "import pandas as pd\n",
    "import numpy as np\n",
    "import matplotlib.pyplot as plt\n",
    "import seaborn as sns"
   ],
   "outputs": [],
   "execution_count": 4
  },
  {
   "cell_type": "code",
   "id": "44e1e4922a72acf3",
   "metadata": {
    "ExecuteTime": {
     "end_time": "2025-04-26T11:38:24.817796Z",
     "start_time": "2025-04-26T11:38:24.799117Z"
    }
   },
   "source": [
    "combats = pd.read_csv('combats.csv')\n",
    "pokemon = pd.read_csv('pokemon.csv')\n",
    "tests = pd.read_csv('tests.csv')\n",
    "combats.head()"
   ],
   "outputs": [
    {
     "data": {
      "text/plain": [
       "   First_pokemon  Second_pokemon  Winner\n",
       "0            266             298     298\n",
       "1            702             701     701\n",
       "2            191             668     668\n",
       "3            237             683     683\n",
       "4            151             231     151"
      ],
      "text/html": [
       "<div>\n",
       "<style scoped>\n",
       "    .dataframe tbody tr th:only-of-type {\n",
       "        vertical-align: middle;\n",
       "    }\n",
       "\n",
       "    .dataframe tbody tr th {\n",
       "        vertical-align: top;\n",
       "    }\n",
       "\n",
       "    .dataframe thead th {\n",
       "        text-align: right;\n",
       "    }\n",
       "</style>\n",
       "<table border=\"1\" class=\"dataframe\">\n",
       "  <thead>\n",
       "    <tr style=\"text-align: right;\">\n",
       "      <th></th>\n",
       "      <th>First_pokemon</th>\n",
       "      <th>Second_pokemon</th>\n",
       "      <th>Winner</th>\n",
       "    </tr>\n",
       "  </thead>\n",
       "  <tbody>\n",
       "    <tr>\n",
       "      <th>0</th>\n",
       "      <td>266</td>\n",
       "      <td>298</td>\n",
       "      <td>298</td>\n",
       "    </tr>\n",
       "    <tr>\n",
       "      <th>1</th>\n",
       "      <td>702</td>\n",
       "      <td>701</td>\n",
       "      <td>701</td>\n",
       "    </tr>\n",
       "    <tr>\n",
       "      <th>2</th>\n",
       "      <td>191</td>\n",
       "      <td>668</td>\n",
       "      <td>668</td>\n",
       "    </tr>\n",
       "    <tr>\n",
       "      <th>3</th>\n",
       "      <td>237</td>\n",
       "      <td>683</td>\n",
       "      <td>683</td>\n",
       "    </tr>\n",
       "    <tr>\n",
       "      <th>4</th>\n",
       "      <td>151</td>\n",
       "      <td>231</td>\n",
       "      <td>151</td>\n",
       "    </tr>\n",
       "  </tbody>\n",
       "</table>\n",
       "</div>"
      ]
     },
     "execution_count": 6,
     "metadata": {},
     "output_type": "execute_result"
    }
   ],
   "execution_count": 6
  },
  {
   "cell_type": "code",
   "execution_count": 5,
   "id": "bcc87030f8c4d90b",
   "metadata": {
    "ExecuteTime": {
     "end_time": "2025-04-24T07:40:49.980520Z",
     "start_time": "2025-04-24T07:40:49.971911Z"
    }
   },
   "outputs": [
    {
     "data": {
      "text/html": [
       "<div>\n",
       "<style scoped>\n",
       "    .dataframe tbody tr th:only-of-type {\n",
       "        vertical-align: middle;\n",
       "    }\n",
       "\n",
       "    .dataframe tbody tr th {\n",
       "        vertical-align: top;\n",
       "    }\n",
       "\n",
       "    .dataframe thead th {\n",
       "        text-align: right;\n",
       "    }\n",
       "</style>\n",
       "<table border=\"1\" class=\"dataframe\">\n",
       "  <thead>\n",
       "    <tr style=\"text-align: right;\">\n",
       "      <th></th>\n",
       "      <th>#</th>\n",
       "      <th>Name</th>\n",
       "      <th>Type 1</th>\n",
       "      <th>Type 2</th>\n",
       "      <th>HP</th>\n",
       "      <th>Attack</th>\n",
       "      <th>Defense</th>\n",
       "      <th>Sp. Atk</th>\n",
       "      <th>Sp. Def</th>\n",
       "      <th>Speed</th>\n",
       "      <th>Generation</th>\n",
       "      <th>Legendary</th>\n",
       "    </tr>\n",
       "  </thead>\n",
       "  <tbody>\n",
       "    <tr>\n",
       "      <th>0</th>\n",
       "      <td>1</td>\n",
       "      <td>Bulbasaur</td>\n",
       "      <td>Grass</td>\n",
       "      <td>Poison</td>\n",
       "      <td>45</td>\n",
       "      <td>49</td>\n",
       "      <td>49</td>\n",
       "      <td>65</td>\n",
       "      <td>65</td>\n",
       "      <td>45</td>\n",
       "      <td>1</td>\n",
       "      <td>False</td>\n",
       "    </tr>\n",
       "    <tr>\n",
       "      <th>1</th>\n",
       "      <td>2</td>\n",
       "      <td>Ivysaur</td>\n",
       "      <td>Grass</td>\n",
       "      <td>Poison</td>\n",
       "      <td>60</td>\n",
       "      <td>62</td>\n",
       "      <td>63</td>\n",
       "      <td>80</td>\n",
       "      <td>80</td>\n",
       "      <td>60</td>\n",
       "      <td>1</td>\n",
       "      <td>False</td>\n",
       "    </tr>\n",
       "    <tr>\n",
       "      <th>2</th>\n",
       "      <td>3</td>\n",
       "      <td>Venusaur</td>\n",
       "      <td>Grass</td>\n",
       "      <td>Poison</td>\n",
       "      <td>80</td>\n",
       "      <td>82</td>\n",
       "      <td>83</td>\n",
       "      <td>100</td>\n",
       "      <td>100</td>\n",
       "      <td>80</td>\n",
       "      <td>1</td>\n",
       "      <td>False</td>\n",
       "    </tr>\n",
       "    <tr>\n",
       "      <th>3</th>\n",
       "      <td>4</td>\n",
       "      <td>Mega Venusaur</td>\n",
       "      <td>Grass</td>\n",
       "      <td>Poison</td>\n",
       "      <td>80</td>\n",
       "      <td>100</td>\n",
       "      <td>123</td>\n",
       "      <td>122</td>\n",
       "      <td>120</td>\n",
       "      <td>80</td>\n",
       "      <td>1</td>\n",
       "      <td>False</td>\n",
       "    </tr>\n",
       "    <tr>\n",
       "      <th>4</th>\n",
       "      <td>5</td>\n",
       "      <td>Charmander</td>\n",
       "      <td>Fire</td>\n",
       "      <td>NaN</td>\n",
       "      <td>39</td>\n",
       "      <td>52</td>\n",
       "      <td>43</td>\n",
       "      <td>60</td>\n",
       "      <td>50</td>\n",
       "      <td>65</td>\n",
       "      <td>1</td>\n",
       "      <td>False</td>\n",
       "    </tr>\n",
       "  </tbody>\n",
       "</table>\n",
       "</div>"
      ],
      "text/plain": [
       "   #           Name Type 1  Type 2  HP  Attack  Defense  Sp. Atk  Sp. Def  \\\n",
       "0  1      Bulbasaur  Grass  Poison  45      49       49       65       65   \n",
       "1  2        Ivysaur  Grass  Poison  60      62       63       80       80   \n",
       "2  3       Venusaur  Grass  Poison  80      82       83      100      100   \n",
       "3  4  Mega Venusaur  Grass  Poison  80     100      123      122      120   \n",
       "4  5     Charmander   Fire     NaN  39      52       43       60       50   \n",
       "\n",
       "   Speed  Generation  Legendary  \n",
       "0     45           1      False  \n",
       "1     60           1      False  \n",
       "2     80           1      False  \n",
       "3     80           1      False  \n",
       "4     65           1      False  "
      ]
     },
     "execution_count": 5,
     "metadata": {},
     "output_type": "execute_result"
    }
   ],
   "source": [
    "pokemon.head()"
   ]
  },
  {
   "cell_type": "code",
   "execution_count": 6,
   "id": "62b8cf9d1bdfc13f",
   "metadata": {
    "ExecuteTime": {
     "end_time": "2025-04-24T07:41:20.447859Z",
     "start_time": "2025-04-24T07:41:20.441514Z"
    }
   },
   "outputs": [
    {
     "data": {
      "text/plain": [
       "#               0\n",
       "Name            1\n",
       "Type 1          0\n",
       "Type 2        386\n",
       "HP              0\n",
       "Attack          0\n",
       "Defense         0\n",
       "Sp. Atk         0\n",
       "Sp. Def         0\n",
       "Speed           0\n",
       "Generation      0\n",
       "Legendary       0\n",
       "dtype: int64"
      ]
     },
     "execution_count": 6,
     "metadata": {},
     "output_type": "execute_result"
    }
   ],
   "source": [
    "pokemon.isnull().sum()"
   ]
  },
  {
   "cell_type": "code",
   "execution_count": 7,
   "id": "238bf611f7929788",
   "metadata": {
    "ExecuteTime": {
     "end_time": "2025-04-24T07:43:01.153633Z",
     "start_time": "2025-04-24T07:43:01.149018Z"
    }
   },
   "outputs": [
    {
     "data": {
      "text/plain": [
       "(800, 12)"
      ]
     },
     "execution_count": 7,
     "metadata": {},
     "output_type": "execute_result"
    }
   ],
   "source": [
    "pokemon.shape"
   ]
  },
  {
   "cell_type": "code",
   "execution_count": 57,
   "id": "db1f8439f3b2ab21",
   "metadata": {
    "ExecuteTime": {
     "end_time": "2025-04-24T09:00:57.037926Z",
     "start_time": "2025-04-24T09:00:57.032857Z"
    }
   },
   "outputs": [
    {
     "data": {
      "text/plain": [
       "0      False\n",
       "1      False\n",
       "2      False\n",
       "3      False\n",
       "4      False\n",
       "       ...  \n",
       "795    False\n",
       "796    False\n",
       "797    False\n",
       "798    False\n",
       "799    False\n",
       "Name: Name, Length: 800, dtype: bool"
      ]
     },
     "execution_count": 57,
     "metadata": {},
     "output_type": "execute_result"
    }
   ],
   "source": [
    "pokemon['Name'].isna()"
   ]
  },
  {
   "cell_type": "code",
   "id": "e30b18a82147132c",
   "metadata": {
    "ExecuteTime": {
     "end_time": "2025-04-26T11:38:51.856204Z",
     "start_time": "2025-04-26T11:38:51.849676Z"
    }
   },
   "source": [
    "pokemon.loc[pokemon['#'] == 63, 'Name'] = 'Primeape'\n",
    "print(pokemon[pokemon['#'] == 63])\n",
    "\n",
    "pokemon_clean=pokemon # żeby ci kodu dalej nie zepsuć to takie coś na razie zrobię\n",
    "#pokemon_clean = pokemon.dropna(subset=['Name']) , to powinno być niepotrzebne"
   ],
   "outputs": [
    {
     "name": "stdout",
     "output_type": "stream",
     "text": [
      "     #      Name    Type 1 Type 2  HP  Attack  Defense  Sp. Atk  Sp. Def  \\\n",
      "62  63  Primeape  Fighting    NaN  65     105       60       60       70   \n",
      "\n",
      "    Speed  Generation  Legendary  \n",
      "62     95           1      False  \n"
     ]
    }
   ],
   "execution_count": 9
  },
  {
   "cell_type": "code",
   "execution_count": 11,
   "id": "c88f135954e6c06f",
   "metadata": {
    "ExecuteTime": {
     "end_time": "2025-04-24T07:44:36.284354Z",
     "start_time": "2025-04-24T07:44:36.280882Z"
    }
   },
   "outputs": [
    {
     "name": "stdout",
     "output_type": "stream",
     "text": [
      "['Grass' 'Fire' 'Water' 'Bug' 'Normal' 'Poison' 'Electric' 'Ground'\n",
      " 'Fairy' 'Fighting' 'Psychic' 'Rock' 'Ghost' 'Ice' 'Dragon' 'Dark' 'Steel'\n",
      " 'Flying']\n",
      "18\n"
     ]
    }
   ],
   "source": [
    "pokemon_types = pokemon_clean['Type 1'].unique()\n",
    "print(pokemon_types)\n",
    "print(len(pokemon_types))"
   ]
  },
  {
   "cell_type": "code",
   "execution_count": 18,
   "id": "a610d576fd3c0240",
   "metadata": {
    "ExecuteTime": {
     "end_time": "2025-04-24T07:48:45.849795Z",
     "start_time": "2025-04-24T07:48:45.846254Z"
    }
   },
   "outputs": [
    {
     "name": "stdout",
     "output_type": "stream",
     "text": [
      "['Poison' nan 'Flying' 'Dragon' 'Ground' 'Fairy' 'Grass' 'Fighting'\n",
      " 'Psychic' 'Steel' 'Ice' 'Rock' 'Dark' 'Water' 'Electric' 'Fire' 'Ghost'\n",
      " 'Bug' 'Normal']\n",
      "19\n"
     ]
    }
   ],
   "source": [
    "#print sorted pokemon_types\n",
    "print(pokemon_clean['Type 2'].unique())\n",
    "print(len(pokemon_clean['Type 2'].unique()))"
   ]
  },
  {
   "cell_type": "code",
   "execution_count": 23,
   "id": "2159285b68380067",
   "metadata": {
    "ExecuteTime": {
     "end_time": "2025-04-24T07:57:00.010328Z",
     "start_time": "2025-04-24T07:57:00.002514Z"
    }
   },
   "outputs": [
    {
     "data": {
      "text/html": [
       "<div>\n",
       "<style scoped>\n",
       "    .dataframe tbody tr th:only-of-type {\n",
       "        vertical-align: middle;\n",
       "    }\n",
       "\n",
       "    .dataframe tbody tr th {\n",
       "        vertical-align: top;\n",
       "    }\n",
       "\n",
       "    .dataframe thead th {\n",
       "        text-align: right;\n",
       "    }\n",
       "</style>\n",
       "<table border=\"1\" class=\"dataframe\">\n",
       "  <thead>\n",
       "    <tr style=\"text-align: right;\">\n",
       "      <th></th>\n",
       "      <th>Type</th>\n",
       "    </tr>\n",
       "  </thead>\n",
       "  <tbody>\n",
       "    <tr>\n",
       "      <th>0</th>\n",
       "      <td>Grass</td>\n",
       "    </tr>\n",
       "    <tr>\n",
       "      <th>1</th>\n",
       "      <td>Grass</td>\n",
       "    </tr>\n",
       "    <tr>\n",
       "      <th>2</th>\n",
       "      <td>Grass</td>\n",
       "    </tr>\n",
       "    <tr>\n",
       "      <th>3</th>\n",
       "      <td>Grass</td>\n",
       "    </tr>\n",
       "    <tr>\n",
       "      <th>4</th>\n",
       "      <td>Fire</td>\n",
       "    </tr>\n",
       "  </tbody>\n",
       "</table>\n",
       "</div>"
      ],
      "text/plain": [
       "    Type\n",
       "0  Grass\n",
       "1  Grass\n",
       "2  Grass\n",
       "3  Grass\n",
       "4   Fire"
      ]
     },
     "execution_count": 23,
     "metadata": {},
     "output_type": "execute_result"
    }
   ],
   "source": [
    "all_types = pokemon_clean['Type 1'].tolist() + pokemon_clean['Type 2'].tolist()\n",
    "all_types = pd.DataFrame(all_types, columns=['Type'])\n",
    "all_types = all_types.dropna()\n",
    "all_types.head()"
   ]
  },
  {
   "cell_type": "code",
   "execution_count": 121,
   "id": "c38f4a564473a5df",
   "metadata": {
    "ExecuteTime": {
     "end_time": "2025-04-24T11:12:12.842109Z",
     "start_time": "2025-04-24T11:12:12.712552Z"
    }
   },
   "outputs": [
    {
     "data": {
      "image/png": "[encoded data removed]",
      "text/plain": [
       "<Figure size 1200x600 with 1 Axes>"
      ]
     },
     "metadata": {},
     "output_type": "display_data"
    }
   ],
   "source": [
    "# countplot with pokemon types\n",
    "plt.figure(figsize=(12, 6))\n",
    "sns.countplot(data=all_types, x='Type', order=all_types['Type'].value_counts().index)\n",
    "plt.xticks(rotation=90)\n",
    "plt.title('Number of pokemon types')\n",
    "plt.xlabel('Type')\n",
    "plt.ylabel('Count')\n",
    "plt.show()"
   ]
  },
  {
   "cell_type": "code",
   "execution_count": 49,
   "id": "524ebf27031c455a",
   "metadata": {
    "ExecuteTime": {
     "end_time": "2025-04-24T08:45:13.849159Z",
     "start_time": "2025-04-24T08:45:13.010705Z"
    }
   },
   "outputs": [
    {
     "data": {
      "image/png": "[encoded data removed]",
      "text/plain": [
       "<Figure size 1500x1000 with 6 Axes>"
      ]
     },
     "metadata": {},
     "output_type": "display_data"
    }
   ],
   "source": [
    "#create 6 subplots distribution for each statistic with different color for legendary and non legendary cumulated plot\n",
    "fig, axes = plt.subplots(2, 3, figsize=(15, 10))\n",
    "labels = ['HP', 'Attack', 'Defense', 'Sp. Atk', 'Sp. Def', 'Speed']\n",
    "for i in range(6):\n",
    "    a = i // 3\n",
    "    b = i % 3\n",
    "    sns.histplot(data=pokemon_clean,x=labels[i], ax=axes[a,b], bins=20, hue='Legendary', multiple='stack')\n",
    "    axes[a,b].set_title(f'{labels[i]} Distribution')\n",
    "\n",
    "plt.tight_layout()\n",
    "plt.show()\n"
   ]
  },
  {
   "cell_type": "code",
   "execution_count": 25,
   "id": "ea1429c4152209c7",
   "metadata": {
    "ExecuteTime": {
     "end_time": "2025-04-24T07:59:26.766526Z",
     "start_time": "2025-04-24T07:59:26.749265Z"
    }
   },
   "outputs": [
    {
     "data": {
      "text/html": [
       "<div>\n",
       "<style scoped>\n",
       "    .dataframe tbody tr th:only-of-type {\n",
       "        vertical-align: middle;\n",
       "    }\n",
       "\n",
       "    .dataframe tbody tr th {\n",
       "        vertical-align: top;\n",
       "    }\n",
       "\n",
       "    .dataframe thead th {\n",
       "        text-align: right;\n",
       "    }\n",
       "</style>\n",
       "<table border=\"1\" class=\"dataframe\">\n",
       "  <thead>\n",
       "    <tr style=\"text-align: right;\">\n",
       "      <th></th>\n",
       "      <th>#</th>\n",
       "      <th>HP</th>\n",
       "      <th>Attack</th>\n",
       "      <th>Defense</th>\n",
       "      <th>Sp. Atk</th>\n",
       "      <th>Sp. Def</th>\n",
       "      <th>Speed</th>\n",
       "      <th>Generation</th>\n",
       "    </tr>\n",
       "  </thead>\n",
       "  <tbody>\n",
       "    <tr>\n",
       "      <th>count</th>\n",
       "      <td>799.000000</td>\n",
       "      <td>799.000000</td>\n",
       "      <td>799.000000</td>\n",
       "      <td>799.000000</td>\n",
       "      <td>799.000000</td>\n",
       "      <td>799.000000</td>\n",
       "      <td>799.000000</td>\n",
       "      <td>799.000000</td>\n",
       "    </tr>\n",
       "    <tr>\n",
       "      <th>mean</th>\n",
       "      <td>400.922403</td>\n",
       "      <td>69.264080</td>\n",
       "      <td>78.968711</td>\n",
       "      <td>73.859825</td>\n",
       "      <td>72.836045</td>\n",
       "      <td>71.904881</td>\n",
       "      <td>68.244055</td>\n",
       "      <td>3.326658</td>\n",
       "    </tr>\n",
       "    <tr>\n",
       "      <th>std</th>\n",
       "      <td>230.919897</td>\n",
       "      <td>25.550218</td>\n",
       "      <td>32.464637</td>\n",
       "      <td>31.199180</td>\n",
       "      <td>32.739641</td>\n",
       "      <td>27.846265</td>\n",
       "      <td>29.063266</td>\n",
       "      <td>1.660292</td>\n",
       "    </tr>\n",
       "    <tr>\n",
       "      <th>min</th>\n",
       "      <td>1.000000</td>\n",
       "      <td>1.000000</td>\n",
       "      <td>5.000000</td>\n",
       "      <td>5.000000</td>\n",
       "      <td>10.000000</td>\n",
       "      <td>20.000000</td>\n",
       "      <td>5.000000</td>\n",
       "      <td>1.000000</td>\n",
       "    </tr>\n",
       "    <tr>\n",
       "      <th>25%</th>\n",
       "      <td>201.500000</td>\n",
       "      <td>50.000000</td>\n",
       "      <td>55.000000</td>\n",
       "      <td>50.000000</td>\n",
       "      <td>49.500000</td>\n",
       "      <td>50.000000</td>\n",
       "      <td>45.000000</td>\n",
       "      <td>2.000000</td>\n",
       "    </tr>\n",
       "    <tr>\n",
       "      <th>50%</th>\n",
       "      <td>401.000000</td>\n",
       "      <td>65.000000</td>\n",
       "      <td>75.000000</td>\n",
       "      <td>70.000000</td>\n",
       "      <td>65.000000</td>\n",
       "      <td>70.000000</td>\n",
       "      <td>65.000000</td>\n",
       "      <td>3.000000</td>\n",
       "    </tr>\n",
       "    <tr>\n",
       "      <th>75%</th>\n",
       "      <td>600.500000</td>\n",
       "      <td>80.000000</td>\n",
       "      <td>100.000000</td>\n",
       "      <td>90.000000</td>\n",
       "      <td>95.000000</td>\n",
       "      <td>90.000000</td>\n",
       "      <td>90.000000</td>\n",
       "      <td>5.000000</td>\n",
       "    </tr>\n",
       "    <tr>\n",
       "      <th>max</th>\n",
       "      <td>800.000000</td>\n",
       "      <td>255.000000</td>\n",
       "      <td>190.000000</td>\n",
       "      <td>230.000000</td>\n",
       "      <td>194.000000</td>\n",
       "      <td>230.000000</td>\n",
       "      <td>180.000000</td>\n",
       "      <td>6.000000</td>\n",
       "    </tr>\n",
       "  </tbody>\n",
       "</table>\n",
       "</div>"
      ],
      "text/plain": [
       "                #          HP      Attack     Defense     Sp. Atk     Sp. Def  \\\n",
       "count  799.000000  799.000000  799.000000  799.000000  799.000000  799.000000   \n",
       "mean   400.922403   69.264080   78.968711   73.859825   72.836045   71.904881   \n",
       "std    230.919897   25.550218   32.464637   31.199180   32.739641   27.846265   \n",
       "min      1.000000    1.000000    5.000000    5.000000   10.000000   20.000000   \n",
       "25%    201.500000   50.000000   55.000000   50.000000   49.500000   50.000000   \n",
       "50%    401.000000   65.000000   75.000000   70.000000   65.000000   70.000000   \n",
       "75%    600.500000   80.000000  100.000000   90.000000   95.000000   90.000000   \n",
       "max    800.000000  255.000000  190.000000  230.000000  194.000000  230.000000   \n",
       "\n",
       "            Speed  Generation  \n",
       "count  799.000000  799.000000  \n",
       "mean    68.244055    3.326658  \n",
       "std     29.063266    1.660292  \n",
       "min      5.000000    1.000000  \n",
       "25%     45.000000    2.000000  \n",
       "50%     65.000000    3.000000  \n",
       "75%     90.000000    5.000000  \n",
       "max    180.000000    6.000000  "
      ]
     },
     "execution_count": 25,
     "metadata": {},
     "output_type": "execute_result"
    }
   ],
   "source": [
    "pokemon_clean.describe()"
   ]
  },
  {
   "cell_type": "code",
   "execution_count": 50,
   "id": "bfbdbded95a957df",
   "metadata": {
    "ExecuteTime": {
     "end_time": "2025-04-24T08:46:09.022733Z",
     "start_time": "2025-04-24T08:46:09.017620Z"
    }
   },
   "outputs": [],
   "source": [
    "hp_ranges = [0,51,101,258]\n",
    "hp_labels = ['low_hp', 'medium_hp', 'high_hp']\n",
    "attack_ranges = [0, 62, 124, 191]\n",
    "attack_labels = ['low_attack', 'medium_attack', 'high_attack']\n",
    "def_ranges = [0,51, 110, 232]\n",
    "def_labels = ['low_defense', 'medium_defense', 'high_defense']\n",
    "sp_atk_ranges = [0,65,130,195]\n",
    "sp_atk_labels = ['low_sp_atk', 'medium_sp_atk', 'high_sp_atk']\n",
    "sp_def_ranges = [0,55,110,232]\n",
    "sp_def_labels = ['low_sp_def', 'medium_sp_def', 'high_sp_def']\n",
    "speed_ranges = [0, 60, 111, 181]\n",
    "speed_labels = ['low_speed', 'medium_speed', 'high_speed']"
   ]
  },
  {
   "cell_type": "code",
   "execution_count": 83,
   "id": "99a25d18c0774f08",
   "metadata": {
    "ExecuteTime": {
     "end_time": "2025-04-24T09:33:35.731224Z",
     "start_time": "2025-04-24T09:33:35.717771Z"
    }
   },
   "outputs": [
    {
     "data": {
      "text/html": [
       "<div>\n",
       "<style scoped>\n",
       "    .dataframe tbody tr th:only-of-type {\n",
       "        vertical-align: middle;\n",
       "    }\n",
       "\n",
       "    .dataframe tbody tr th {\n",
       "        vertical-align: top;\n",
       "    }\n",
       "\n",
       "    .dataframe thead th {\n",
       "        text-align: right;\n",
       "    }\n",
       "</style>\n",
       "<table border=\"1\" class=\"dataframe\">\n",
       "  <thead>\n",
       "    <tr style=\"text-align: right;\">\n",
       "      <th></th>\n",
       "      <th>Index</th>\n",
       "      <th>Name</th>\n",
       "      <th>Type 1</th>\n",
       "      <th>Type 2</th>\n",
       "      <th>HP</th>\n",
       "      <th>Attack</th>\n",
       "      <th>Defense</th>\n",
       "      <th>Sp. Atk</th>\n",
       "      <th>Sp. Def</th>\n",
       "      <th>Speed</th>\n",
       "      <th>Generation</th>\n",
       "      <th>Legendary</th>\n",
       "    </tr>\n",
       "  </thead>\n",
       "  <tbody>\n",
       "    <tr>\n",
       "      <th>0</th>\n",
       "      <td>1</td>\n",
       "      <td>Bulbasaur</td>\n",
       "      <td>Grass</td>\n",
       "      <td>Poison</td>\n",
       "      <td>low_hp</td>\n",
       "      <td>low_attack</td>\n",
       "      <td>low_defense</td>\n",
       "      <td>low_sp_atk</td>\n",
       "      <td>medium_sp_def</td>\n",
       "      <td>low_speed</td>\n",
       "      <td>1</td>\n",
       "      <td>False</td>\n",
       "    </tr>\n",
       "    <tr>\n",
       "      <th>1</th>\n",
       "      <td>2</td>\n",
       "      <td>Ivysaur</td>\n",
       "      <td>Grass</td>\n",
       "      <td>Poison</td>\n",
       "      <td>medium_hp</td>\n",
       "      <td>low_attack</td>\n",
       "      <td>medium_defense</td>\n",
       "      <td>medium_sp_atk</td>\n",
       "      <td>medium_sp_def</td>\n",
       "      <td>low_speed</td>\n",
       "      <td>1</td>\n",
       "      <td>False</td>\n",
       "    </tr>\n",
       "    <tr>\n",
       "      <th>2</th>\n",
       "      <td>3</td>\n",
       "      <td>Venusaur</td>\n",
       "      <td>Grass</td>\n",
       "      <td>Poison</td>\n",
       "      <td>medium_hp</td>\n",
       "      <td>medium_attack</td>\n",
       "      <td>medium_defense</td>\n",
       "      <td>medium_sp_atk</td>\n",
       "      <td>medium_sp_def</td>\n",
       "      <td>medium_speed</td>\n",
       "      <td>1</td>\n",
       "      <td>False</td>\n",
       "    </tr>\n",
       "    <tr>\n",
       "      <th>3</th>\n",
       "      <td>4</td>\n",
       "      <td>Mega Venusaur</td>\n",
       "      <td>Grass</td>\n",
       "      <td>Poison</td>\n",
       "      <td>medium_hp</td>\n",
       "      <td>medium_attack</td>\n",
       "      <td>high_defense</td>\n",
       "      <td>medium_sp_atk</td>\n",
       "      <td>high_sp_def</td>\n",
       "      <td>medium_speed</td>\n",
       "      <td>1</td>\n",
       "      <td>False</td>\n",
       "    </tr>\n",
       "    <tr>\n",
       "      <th>4</th>\n",
       "      <td>5</td>\n",
       "      <td>Charmander</td>\n",
       "      <td>Fire</td>\n",
       "      <td>NaN</td>\n",
       "      <td>low_hp</td>\n",
       "      <td>low_attack</td>\n",
       "      <td>low_defense</td>\n",
       "      <td>low_sp_atk</td>\n",
       "      <td>low_sp_def</td>\n",
       "      <td>medium_speed</td>\n",
       "      <td>1</td>\n",
       "      <td>False</td>\n",
       "    </tr>\n",
       "  </tbody>\n",
       "</table>\n",
       "</div>"
      ],
      "text/plain": [
       "   Index           Name Type 1  Type 2         HP         Attack  \\\n",
       "0      1      Bulbasaur  Grass  Poison     low_hp     low_attack   \n",
       "1      2        Ivysaur  Grass  Poison  medium_hp     low_attack   \n",
       "2      3       Venusaur  Grass  Poison  medium_hp  medium_attack   \n",
       "3      4  Mega Venusaur  Grass  Poison  medium_hp  medium_attack   \n",
       "4      5     Charmander   Fire     NaN     low_hp     low_attack   \n",
       "\n",
       "          Defense        Sp. Atk        Sp. Def         Speed  Generation  \\\n",
       "0     low_defense     low_sp_atk  medium_sp_def     low_speed           1   \n",
       "1  medium_defense  medium_sp_atk  medium_sp_def     low_speed           1   \n",
       "2  medium_defense  medium_sp_atk  medium_sp_def  medium_speed           1   \n",
       "3    high_defense  medium_sp_atk    high_sp_def  medium_speed           1   \n",
       "4     low_defense     low_sp_atk     low_sp_def  medium_speed           1   \n",
       "\n",
       "   Legendary  \n",
       "0      False  \n",
       "1      False  \n",
       "2      False  \n",
       "3      False  \n",
       "4      False  "
      ]
     },
     "execution_count": 83,
     "metadata": {},
     "output_type": "execute_result"
    }
   ],
   "source": [
    "pokemon_with_labels = pokemon_clean.copy()\n",
    "pokemon_with_labels['HP'] = pd.cut(pokemon_with_labels['HP'], bins=hp_ranges, labels=hp_labels)\n",
    "pokemon_with_labels['Attack'] = pd.cut(pokemon_with_labels['Attack'], bins=attack_ranges, labels=attack_labels)\n",
    "pokemon_with_labels['Defense'] = pd.cut(pokemon_with_labels['Defense'], bins=def_ranges, labels=def_labels)\n",
    "pokemon_with_labels['Sp. Atk'] = pd.cut(pokemon_with_labels['Sp. Atk'], bins=sp_atk_ranges, labels=sp_atk_labels)\n",
    "pokemon_with_labels['Sp. Def'] = pd.cut(pokemon_with_labels['Sp. Def'], bins=sp_def_ranges, labels=sp_def_labels)\n",
    "pokemon_with_labels['Speed'] = pd.cut(pokemon_with_labels['Speed'], bins=speed_ranges, labels=speed_labels)\n",
    "pokemon_with_labels.head()"
   ]
  },
  {
   "cell_type": "code",
   "execution_count": 62,
   "id": "2a240c491b442658",
   "metadata": {
    "ExecuteTime": {
     "end_time": "2025-04-24T09:11:23.282748Z",
     "start_time": "2025-04-24T09:11:23.273777Z"
    }
   },
   "outputs": [
    {
     "data": {
      "text/html": [
       "<div>\n",
       "<style scoped>\n",
       "    .dataframe tbody tr th:only-of-type {\n",
       "        vertical-align: middle;\n",
       "    }\n",
       "\n",
       "    .dataframe tbody tr th {\n",
       "        vertical-align: top;\n",
       "    }\n",
       "\n",
       "    .dataframe thead th {\n",
       "        text-align: right;\n",
       "    }\n",
       "</style>\n",
       "<table border=\"1\" class=\"dataframe\">\n",
       "  <thead>\n",
       "    <tr style=\"text-align: right;\">\n",
       "      <th></th>\n",
       "      <th>Index</th>\n",
       "      <th>Name</th>\n",
       "      <th>Type 1</th>\n",
       "      <th>Type 2</th>\n",
       "      <th>HP</th>\n",
       "      <th>Attack</th>\n",
       "      <th>Defense</th>\n",
       "      <th>Sp. Atk</th>\n",
       "      <th>Sp. Def</th>\n",
       "      <th>Speed</th>\n",
       "      <th>Generation</th>\n",
       "      <th>Legendary</th>\n",
       "    </tr>\n",
       "  </thead>\n",
       "  <tbody>\n",
       "    <tr>\n",
       "      <th>0</th>\n",
       "      <td>1</td>\n",
       "      <td>Bulbasaur</td>\n",
       "      <td>Grass</td>\n",
       "      <td>Poison</td>\n",
       "      <td>45</td>\n",
       "      <td>49</td>\n",
       "      <td>49</td>\n",
       "      <td>65</td>\n",
       "      <td>65</td>\n",
       "      <td>45</td>\n",
       "      <td>1</td>\n",
       "      <td>False</td>\n",
       "    </tr>\n",
       "    <tr>\n",
       "      <th>1</th>\n",
       "      <td>2</td>\n",
       "      <td>Ivysaur</td>\n",
       "      <td>Grass</td>\n",
       "      <td>Poison</td>\n",
       "      <td>60</td>\n",
       "      <td>62</td>\n",
       "      <td>63</td>\n",
       "      <td>80</td>\n",
       "      <td>80</td>\n",
       "      <td>60</td>\n",
       "      <td>1</td>\n",
       "      <td>False</td>\n",
       "    </tr>\n",
       "    <tr>\n",
       "      <th>2</th>\n",
       "      <td>3</td>\n",
       "      <td>Venusaur</td>\n",
       "      <td>Grass</td>\n",
       "      <td>Poison</td>\n",
       "      <td>80</td>\n",
       "      <td>82</td>\n",
       "      <td>83</td>\n",
       "      <td>100</td>\n",
       "      <td>100</td>\n",
       "      <td>80</td>\n",
       "      <td>1</td>\n",
       "      <td>False</td>\n",
       "    </tr>\n",
       "    <tr>\n",
       "      <th>3</th>\n",
       "      <td>4</td>\n",
       "      <td>Mega Venusaur</td>\n",
       "      <td>Grass</td>\n",
       "      <td>Poison</td>\n",
       "      <td>80</td>\n",
       "      <td>100</td>\n",
       "      <td>123</td>\n",
       "      <td>122</td>\n",
       "      <td>120</td>\n",
       "      <td>80</td>\n",
       "      <td>1</td>\n",
       "      <td>False</td>\n",
       "    </tr>\n",
       "    <tr>\n",
       "      <th>4</th>\n",
       "      <td>5</td>\n",
       "      <td>Charmander</td>\n",
       "      <td>Fire</td>\n",
       "      <td>NaN</td>\n",
       "      <td>39</td>\n",
       "      <td>52</td>\n",
       "      <td>43</td>\n",
       "      <td>60</td>\n",
       "      <td>50</td>\n",
       "      <td>65</td>\n",
       "      <td>1</td>\n",
       "      <td>False</td>\n",
       "    </tr>\n",
       "  </tbody>\n",
       "</table>\n",
       "</div>"
      ],
      "text/plain": [
       "   Index           Name Type 1  Type 2  HP  Attack  Defense  Sp. Atk  Sp. Def  \\\n",
       "0      1      Bulbasaur  Grass  Poison  45      49       49       65       65   \n",
       "1      2        Ivysaur  Grass  Poison  60      62       63       80       80   \n",
       "2      3       Venusaur  Grass  Poison  80      82       83      100      100   \n",
       "3      4  Mega Venusaur  Grass  Poison  80     100      123      122      120   \n",
       "4      5     Charmander   Fire     NaN  39      52       43       60       50   \n",
       "\n",
       "   Speed  Generation  Legendary  \n",
       "0     45           1      False  \n",
       "1     60           1      False  \n",
       "2     80           1      False  \n",
       "3     80           1      False  \n",
       "4     65           1      False  "
      ]
     },
     "execution_count": 62,
     "metadata": {},
     "output_type": "execute_result"
    }
   ],
   "source": [
    "pokemon_clean = pokemon_clean.rename(columns={'#':'Index'})\n",
    "pokemon_clean.head()"
   ]
  },
  {
   "cell_type": "code",
   "execution_count": 66,
   "id": "bf09f8d4d5e8221e",
   "metadata": {
    "ExecuteTime": {
     "end_time": "2025-04-24T09:13:16.064747Z",
     "start_time": "2025-04-24T09:13:16.057793Z"
    }
   },
   "outputs": [
    {
     "data": {
      "text/html": [
       "<div>\n",
       "<style scoped>\n",
       "    .dataframe tbody tr th:only-of-type {\n",
       "        vertical-align: middle;\n",
       "    }\n",
       "\n",
       "    .dataframe tbody tr th {\n",
       "        vertical-align: top;\n",
       "    }\n",
       "\n",
       "    .dataframe thead th {\n",
       "        text-align: right;\n",
       "    }\n",
       "</style>\n",
       "<table border=\"1\" class=\"dataframe\">\n",
       "  <thead>\n",
       "    <tr style=\"text-align: right;\">\n",
       "      <th></th>\n",
       "      <th>Win Num</th>\n",
       "    </tr>\n",
       "    <tr>\n",
       "      <th>Winner</th>\n",
       "      <th></th>\n",
       "    </tr>\n",
       "  </thead>\n",
       "  <tbody>\n",
       "    <tr>\n",
       "      <th>163</th>\n",
       "      <td>152</td>\n",
       "    </tr>\n",
       "    <tr>\n",
       "      <th>438</th>\n",
       "      <td>136</td>\n",
       "    </tr>\n",
       "    <tr>\n",
       "      <th>154</th>\n",
       "      <td>136</td>\n",
       "    </tr>\n",
       "    <tr>\n",
       "      <th>428</th>\n",
       "      <td>134</td>\n",
       "    </tr>\n",
       "    <tr>\n",
       "      <th>314</th>\n",
       "      <td>133</td>\n",
       "    </tr>\n",
       "  </tbody>\n",
       "</table>\n",
       "</div>"
      ],
      "text/plain": [
       "        Win Num\n",
       "Winner         \n",
       "163         152\n",
       "438         136\n",
       "154         136\n",
       "428         134\n",
       "314         133"
      ]
     },
     "execution_count": 66,
     "metadata": {},
     "output_type": "execute_result"
    }
   ],
   "source": [
    "win_count = pd.DataFrame(combats['Winner'].value_counts())\n",
    "win_count = win_count.rename(columns={'Winner': 'Index', 'count':'Win Num'})\n",
    "win_count.head()"
   ]
  },
  {
   "cell_type": "code",
   "execution_count": 84,
   "id": "301151f636a849a",
   "metadata": {
    "ExecuteTime": {
     "end_time": "2025-04-24T09:33:42.797996Z",
     "start_time": "2025-04-24T09:33:42.787970Z"
    }
   },
   "outputs": [
    {
     "data": {
      "text/html": [
       "<div>\n",
       "<style scoped>\n",
       "    .dataframe tbody tr th:only-of-type {\n",
       "        vertical-align: middle;\n",
       "    }\n",
       "\n",
       "    .dataframe tbody tr th {\n",
       "        vertical-align: top;\n",
       "    }\n",
       "\n",
       "    .dataframe thead th {\n",
       "        text-align: right;\n",
       "    }\n",
       "</style>\n",
       "<table border=\"1\" class=\"dataframe\">\n",
       "  <thead>\n",
       "    <tr style=\"text-align: right;\">\n",
       "      <th></th>\n",
       "      <th>Index</th>\n",
       "      <th>Name</th>\n",
       "      <th>Type 1</th>\n",
       "      <th>Type 2</th>\n",
       "      <th>HP</th>\n",
       "      <th>Attack</th>\n",
       "      <th>Defense</th>\n",
       "      <th>Sp. Atk</th>\n",
       "      <th>Sp. Def</th>\n",
       "      <th>Speed</th>\n",
       "      <th>Generation</th>\n",
       "      <th>Legendary</th>\n",
       "      <th>Win Num</th>\n",
       "    </tr>\n",
       "  </thead>\n",
       "  <tbody>\n",
       "    <tr>\n",
       "      <th>0</th>\n",
       "      <td>1</td>\n",
       "      <td>Bulbasaur</td>\n",
       "      <td>Grass</td>\n",
       "      <td>Poison</td>\n",
       "      <td>low_hp</td>\n",
       "      <td>low_attack</td>\n",
       "      <td>low_defense</td>\n",
       "      <td>low_sp_atk</td>\n",
       "      <td>medium_sp_def</td>\n",
       "      <td>low_speed</td>\n",
       "      <td>1</td>\n",
       "      <td>False</td>\n",
       "      <td>37.0</td>\n",
       "    </tr>\n",
       "    <tr>\n",
       "      <th>1</th>\n",
       "      <td>2</td>\n",
       "      <td>Ivysaur</td>\n",
       "      <td>Grass</td>\n",
       "      <td>Poison</td>\n",
       "      <td>medium_hp</td>\n",
       "      <td>low_attack</td>\n",
       "      <td>medium_defense</td>\n",
       "      <td>medium_sp_atk</td>\n",
       "      <td>medium_sp_def</td>\n",
       "      <td>low_speed</td>\n",
       "      <td>1</td>\n",
       "      <td>False</td>\n",
       "      <td>46.0</td>\n",
       "    </tr>\n",
       "    <tr>\n",
       "      <th>2</th>\n",
       "      <td>3</td>\n",
       "      <td>Venusaur</td>\n",
       "      <td>Grass</td>\n",
       "      <td>Poison</td>\n",
       "      <td>medium_hp</td>\n",
       "      <td>medium_attack</td>\n",
       "      <td>medium_defense</td>\n",
       "      <td>medium_sp_atk</td>\n",
       "      <td>medium_sp_def</td>\n",
       "      <td>medium_speed</td>\n",
       "      <td>1</td>\n",
       "      <td>False</td>\n",
       "      <td>89.0</td>\n",
       "    </tr>\n",
       "    <tr>\n",
       "      <th>3</th>\n",
       "      <td>4</td>\n",
       "      <td>Mega Venusaur</td>\n",
       "      <td>Grass</td>\n",
       "      <td>Poison</td>\n",
       "      <td>medium_hp</td>\n",
       "      <td>medium_attack</td>\n",
       "      <td>high_defense</td>\n",
       "      <td>medium_sp_atk</td>\n",
       "      <td>high_sp_def</td>\n",
       "      <td>medium_speed</td>\n",
       "      <td>1</td>\n",
       "      <td>False</td>\n",
       "      <td>70.0</td>\n",
       "    </tr>\n",
       "    <tr>\n",
       "      <th>4</th>\n",
       "      <td>5</td>\n",
       "      <td>Charmander</td>\n",
       "      <td>Fire</td>\n",
       "      <td>NaN</td>\n",
       "      <td>low_hp</td>\n",
       "      <td>low_attack</td>\n",
       "      <td>low_defense</td>\n",
       "      <td>low_sp_atk</td>\n",
       "      <td>low_sp_def</td>\n",
       "      <td>medium_speed</td>\n",
       "      <td>1</td>\n",
       "      <td>False</td>\n",
       "      <td>55.0</td>\n",
       "    </tr>\n",
       "  </tbody>\n",
       "</table>\n",
       "</div>"
      ],
      "text/plain": [
       "   Index           Name Type 1  Type 2         HP         Attack  \\\n",
       "0      1      Bulbasaur  Grass  Poison     low_hp     low_attack   \n",
       "1      2        Ivysaur  Grass  Poison  medium_hp     low_attack   \n",
       "2      3       Venusaur  Grass  Poison  medium_hp  medium_attack   \n",
       "3      4  Mega Venusaur  Grass  Poison  medium_hp  medium_attack   \n",
       "4      5     Charmander   Fire     NaN     low_hp     low_attack   \n",
       "\n",
       "          Defense        Sp. Atk        Sp. Def         Speed  Generation  \\\n",
       "0     low_defense     low_sp_atk  medium_sp_def     low_speed           1   \n",
       "1  medium_defense  medium_sp_atk  medium_sp_def     low_speed           1   \n",
       "2  medium_defense  medium_sp_atk  medium_sp_def  medium_speed           1   \n",
       "3    high_defense  medium_sp_atk    high_sp_def  medium_speed           1   \n",
       "4     low_defense     low_sp_atk     low_sp_def  medium_speed           1   \n",
       "\n",
       "   Legendary  Win Num  \n",
       "0      False     37.0  \n",
       "1      False     46.0  \n",
       "2      False     89.0  \n",
       "3      False     70.0  \n",
       "4      False     55.0  "
      ]
     },
     "execution_count": 84,
     "metadata": {},
     "output_type": "execute_result"
    }
   ],
   "source": [
    "# joining winning number to pokemon_with_labels\n",
    "pokemon_with_labels = pd.merge(pokemon_with_labels, win_count, how='left', left_on='Index', right_on='Winner')\n",
    "pokemon_with_labels.head()"
   ]
  },
  {
   "cell_type": "code",
   "execution_count": 85,
   "id": "f50638630263e50a",
   "metadata": {
    "ExecuteTime": {
     "end_time": "2025-04-24T09:33:52.104892Z",
     "start_time": "2025-04-24T09:33:52.098716Z"
    }
   },
   "outputs": [
    {
     "data": {
      "text/plain": [
       "Index           0\n",
       "Name            0\n",
       "Type 1          0\n",
       "Type 2        385\n",
       "HP              0\n",
       "Attack          0\n",
       "Defense         0\n",
       "Sp. Atk         0\n",
       "Sp. Def         0\n",
       "Speed           0\n",
       "Generation      0\n",
       "Legendary       0\n",
       "Win Num         0\n",
       "dtype: int64"
      ]
     },
     "execution_count": 85,
     "metadata": {},
     "output_type": "execute_result"
    }
   ],
   "source": [
    "pokemon_with_labels['Win Num'] = pokemon_with_labels['Win Num'].fillna(0)\n",
    "pokemon_with_labels.isnull().sum()"
   ]
  },
  {
   "cell_type": "code",
   "execution_count": 78,
   "id": "608e5907e56cb837",
   "metadata": {
    "ExecuteTime": {
     "end_time": "2025-04-24T09:29:01.387774Z",
     "start_time": "2025-04-24T09:29:01.359548Z"
    }
   },
   "outputs": [
    {
     "data": {
      "text/html": [
       "<div>\n",
       "<style scoped>\n",
       "    .dataframe tbody tr th:only-of-type {\n",
       "        vertical-align: middle;\n",
       "    }\n",
       "\n",
       "    .dataframe tbody tr th {\n",
       "        vertical-align: top;\n",
       "    }\n",
       "\n",
       "    .dataframe thead th {\n",
       "        text-align: right;\n",
       "    }\n",
       "</style>\n",
       "<table border=\"1\" class=\"dataframe\">\n",
       "  <thead>\n",
       "    <tr style=\"text-align: right;\">\n",
       "      <th></th>\n",
       "      <th>Match Num</th>\n",
       "    </tr>\n",
       "    <tr>\n",
       "      <th>Index</th>\n",
       "      <th></th>\n",
       "    </tr>\n",
       "  </thead>\n",
       "  <tbody>\n",
       "    <tr>\n",
       "      <th>163</th>\n",
       "      <td>164</td>\n",
       "    </tr>\n",
       "    <tr>\n",
       "      <th>344</th>\n",
       "      <td>160</td>\n",
       "    </tr>\n",
       "    <tr>\n",
       "      <th>667</th>\n",
       "      <td>159</td>\n",
       "    </tr>\n",
       "    <tr>\n",
       "      <th>214</th>\n",
       "      <td>158</td>\n",
       "    </tr>\n",
       "    <tr>\n",
       "      <th>758</th>\n",
       "      <td>158</td>\n",
       "    </tr>\n",
       "  </tbody>\n",
       "</table>\n",
       "</div>"
      ],
      "text/plain": [
       "       Match Num\n",
       "Index           \n",
       "163          164\n",
       "344          160\n",
       "667          159\n",
       "214          158\n",
       "758          158"
      ]
     },
     "execution_count": 78,
     "metadata": {},
     "output_type": "execute_result"
    }
   ],
   "source": [
    "matches = combats['First_pokemon'].tolist() + combats['Second_pokemon'].tolist()\n",
    "matches = pd.DataFrame(matches, columns=['Index'])\n",
    "match_count = pd.DataFrame(matches['Index'].value_counts())\n",
    "match_count = match_count.rename(columns={'Index': 'Index', 'count':'Match Num'})\n",
    "match_count.head()"
   ]
  },
  {
   "cell_type": "code",
   "execution_count": 86,
   "id": "932a6ed7778da8fa",
   "metadata": {
    "ExecuteTime": {
     "end_time": "2025-04-24T10:02:39.211253Z",
     "start_time": "2025-04-24T10:02:39.199023Z"
    }
   },
   "outputs": [
    {
     "data": {
      "text/html": [
       "<div>\n",
       "<style scoped>\n",
       "    .dataframe tbody tr th:only-of-type {\n",
       "        vertical-align: middle;\n",
       "    }\n",
       "\n",
       "    .dataframe tbody tr th {\n",
       "        vertical-align: top;\n",
       "    }\n",
       "\n",
       "    .dataframe thead th {\n",
       "        text-align: right;\n",
       "    }\n",
       "</style>\n",
       "<table border=\"1\" class=\"dataframe\">\n",
       "  <thead>\n",
       "    <tr style=\"text-align: right;\">\n",
       "      <th></th>\n",
       "      <th>Index</th>\n",
       "      <th>Name</th>\n",
       "      <th>Type 1</th>\n",
       "      <th>Type 2</th>\n",
       "      <th>HP</th>\n",
       "      <th>Attack</th>\n",
       "      <th>Defense</th>\n",
       "      <th>Sp. Atk</th>\n",
       "      <th>Sp. Def</th>\n",
       "      <th>Speed</th>\n",
       "      <th>Generation</th>\n",
       "      <th>Legendary</th>\n",
       "      <th>Win Num</th>\n",
       "      <th>Match Num</th>\n",
       "    </tr>\n",
       "  </thead>\n",
       "  <tbody>\n",
       "    <tr>\n",
       "      <th>0</th>\n",
       "      <td>1</td>\n",
       "      <td>Bulbasaur</td>\n",
       "      <td>Grass</td>\n",
       "      <td>Poison</td>\n",
       "      <td>low_hp</td>\n",
       "      <td>low_attack</td>\n",
       "      <td>low_defense</td>\n",
       "      <td>low_sp_atk</td>\n",
       "      <td>medium_sp_def</td>\n",
       "      <td>low_speed</td>\n",
       "      <td>1</td>\n",
       "      <td>False</td>\n",
       "      <td>37.0</td>\n",
       "      <td>133.0</td>\n",
       "    </tr>\n",
       "    <tr>\n",
       "      <th>1</th>\n",
       "      <td>2</td>\n",
       "      <td>Ivysaur</td>\n",
       "      <td>Grass</td>\n",
       "      <td>Poison</td>\n",
       "      <td>medium_hp</td>\n",
       "      <td>low_attack</td>\n",
       "      <td>medium_defense</td>\n",
       "      <td>medium_sp_atk</td>\n",
       "      <td>medium_sp_def</td>\n",
       "      <td>low_speed</td>\n",
       "      <td>1</td>\n",
       "      <td>False</td>\n",
       "      <td>46.0</td>\n",
       "      <td>121.0</td>\n",
       "    </tr>\n",
       "    <tr>\n",
       "      <th>2</th>\n",
       "      <td>3</td>\n",
       "      <td>Venusaur</td>\n",
       "      <td>Grass</td>\n",
       "      <td>Poison</td>\n",
       "      <td>medium_hp</td>\n",
       "      <td>medium_attack</td>\n",
       "      <td>medium_defense</td>\n",
       "      <td>medium_sp_atk</td>\n",
       "      <td>medium_sp_def</td>\n",
       "      <td>medium_speed</td>\n",
       "      <td>1</td>\n",
       "      <td>False</td>\n",
       "      <td>89.0</td>\n",
       "      <td>132.0</td>\n",
       "    </tr>\n",
       "    <tr>\n",
       "      <th>3</th>\n",
       "      <td>4</td>\n",
       "      <td>Mega Venusaur</td>\n",
       "      <td>Grass</td>\n",
       "      <td>Poison</td>\n",
       "      <td>medium_hp</td>\n",
       "      <td>medium_attack</td>\n",
       "      <td>high_defense</td>\n",
       "      <td>medium_sp_atk</td>\n",
       "      <td>high_sp_def</td>\n",
       "      <td>medium_speed</td>\n",
       "      <td>1</td>\n",
       "      <td>False</td>\n",
       "      <td>70.0</td>\n",
       "      <td>125.0</td>\n",
       "    </tr>\n",
       "    <tr>\n",
       "      <th>4</th>\n",
       "      <td>5</td>\n",
       "      <td>Charmander</td>\n",
       "      <td>Fire</td>\n",
       "      <td>NaN</td>\n",
       "      <td>low_hp</td>\n",
       "      <td>low_attack</td>\n",
       "      <td>low_defense</td>\n",
       "      <td>low_sp_atk</td>\n",
       "      <td>low_sp_def</td>\n",
       "      <td>medium_speed</td>\n",
       "      <td>1</td>\n",
       "      <td>False</td>\n",
       "      <td>55.0</td>\n",
       "      <td>112.0</td>\n",
       "    </tr>\n",
       "  </tbody>\n",
       "</table>\n",
       "</div>"
      ],
      "text/plain": [
       "   Index           Name Type 1  Type 2         HP         Attack  \\\n",
       "0      1      Bulbasaur  Grass  Poison     low_hp     low_attack   \n",
       "1      2        Ivysaur  Grass  Poison  medium_hp     low_attack   \n",
       "2      3       Venusaur  Grass  Poison  medium_hp  medium_attack   \n",
       "3      4  Mega Venusaur  Grass  Poison  medium_hp  medium_attack   \n",
       "4      5     Charmander   Fire     NaN     low_hp     low_attack   \n",
       "\n",
       "          Defense        Sp. Atk        Sp. Def         Speed  Generation  \\\n",
       "0     low_defense     low_sp_atk  medium_sp_def     low_speed           1   \n",
       "1  medium_defense  medium_sp_atk  medium_sp_def     low_speed           1   \n",
       "2  medium_defense  medium_sp_atk  medium_sp_def  medium_speed           1   \n",
       "3    high_defense  medium_sp_atk    high_sp_def  medium_speed           1   \n",
       "4     low_defense     low_sp_atk     low_sp_def  medium_speed           1   \n",
       "\n",
       "   Legendary  Win Num  Match Num  \n",
       "0      False     37.0      133.0  \n",
       "1      False     46.0      121.0  \n",
       "2      False     89.0      132.0  \n",
       "3      False     70.0      125.0  \n",
       "4      False     55.0      112.0  "
      ]
     },
     "execution_count": 86,
     "metadata": {},
     "output_type": "execute_result"
    }
   ],
   "source": [
    "pokemon_with_labels = pd.merge(pokemon_with_labels, match_count, how='left', left_on='Index', right_on='Index')\n",
    "pokemon_with_labels.head()"
   ]
  },
  {
   "cell_type": "code",
   "execution_count": 87,
   "id": "5f28a34230cdd4d8",
   "metadata": {
    "ExecuteTime": {
     "end_time": "2025-04-24T10:03:38.230754Z",
     "start_time": "2025-04-24T10:03:38.224269Z"
    }
   },
   "outputs": [
    {
     "data": {
      "text/plain": [
       "Index           0\n",
       "Name            0\n",
       "Type 1          0\n",
       "Type 2        385\n",
       "HP              0\n",
       "Attack          0\n",
       "Defense         0\n",
       "Sp. Atk         0\n",
       "Sp. Def         0\n",
       "Speed           0\n",
       "Generation      0\n",
       "Legendary       0\n",
       "Win Num         0\n",
       "Match Num       0\n",
       "dtype: int64"
      ]
     },
     "execution_count": 87,
     "metadata": {},
     "output_type": "execute_result"
    }
   ],
   "source": [
    "pokemon_with_labels['Match Num'] = pokemon_with_labels['Match Num'].fillna(0)\n",
    "pokemon_with_labels.isnull().sum()"
   ]
  },
  {
   "cell_type": "code",
   "execution_count": 88,
   "id": "9b7445bb39c46cab",
   "metadata": {
    "ExecuteTime": {
     "end_time": "2025-04-24T10:03:58.956692Z",
     "start_time": "2025-04-24T10:03:58.949126Z"
    }
   },
   "outputs": [
    {
     "data": {
      "text/plain": [
       "Index           0\n",
       "Name            0\n",
       "Type 1          0\n",
       "Type 2        385\n",
       "HP              0\n",
       "Attack          0\n",
       "Defense         0\n",
       "Sp. Atk         0\n",
       "Sp. Def         0\n",
       "Speed           0\n",
       "Generation      0\n",
       "Legendary       0\n",
       "Win Num         0\n",
       "Match Num       0\n",
       "Win Ratio       0\n",
       "dtype: int64"
      ]
     },
     "execution_count": 88,
     "metadata": {},
     "output_type": "execute_result"
    }
   ],
   "source": [
    "pokemon_with_labels['Win Ratio'] = pokemon_with_labels['Win Num'] / pokemon_with_labels['Match Num']\n",
    "pokemon_with_labels['Win Ratio'] = pokemon_with_labels['Win Ratio'].fillna(0)\n",
    "pokemon_with_labels['Win Ratio'] = pokemon_with_labels['Win Ratio'].replace([np.inf, -np.inf], 0)\n",
    "pokemon_with_labels.isnull().sum()"
   ]
  },
  {
   "cell_type": "code",
   "execution_count": 93,
   "id": "71c79361463db60d",
   "metadata": {
    "ExecuteTime": {
     "end_time": "2025-04-24T10:13:48.488625Z",
     "start_time": "2025-04-24T10:13:48.477026Z"
    }
   },
   "outputs": [],
   "source": [
    "win_ratios_labels = ['low_win_ratio', 'medium_win_ratio', 'high_win_ratio']\n",
    "win_ratios_ranges = [0, 0.34, 0.67, 1]\n",
    "pokemon_clean_2 = pokemon_with_labels.copy()\n",
    "pokemon_with_labels['Win Ratio'] = pd.cut(pokemon_with_labels['Win Ratio'], bins=win_ratios_ranges, labels=win_ratios_labels)\n",
    "pokemon_with_labels.to_csv('pokemon_with_labels.csv')"
   ]
  },
  {
   "cell_type": "code",
   "execution_count": 94,
   "id": "b048a83fea25e96d",
   "metadata": {
    "ExecuteTime": {
     "end_time": "2025-04-24T10:14:01.716415Z",
     "start_time": "2025-04-24T10:14:01.705010Z"
    }
   },
   "outputs": [
    {
     "data": {
      "text/html": [
       "<div>\n",
       "<style scoped>\n",
       "    .dataframe tbody tr th:only-of-type {\n",
       "        vertical-align: middle;\n",
       "    }\n",
       "\n",
       "    .dataframe tbody tr th {\n",
       "        vertical-align: top;\n",
       "    }\n",
       "\n",
       "    .dataframe thead th {\n",
       "        text-align: right;\n",
       "    }\n",
       "</style>\n",
       "<table border=\"1\" class=\"dataframe\">\n",
       "  <thead>\n",
       "    <tr style=\"text-align: right;\">\n",
       "      <th></th>\n",
       "      <th>Index</th>\n",
       "      <th>Name</th>\n",
       "      <th>Type 1</th>\n",
       "      <th>Type 2</th>\n",
       "      <th>HP</th>\n",
       "      <th>Attack</th>\n",
       "      <th>Defense</th>\n",
       "      <th>Sp. Atk</th>\n",
       "      <th>Sp. Def</th>\n",
       "      <th>Speed</th>\n",
       "      <th>Generation</th>\n",
       "      <th>Legendary</th>\n",
       "      <th>Win Num</th>\n",
       "      <th>Match Num</th>\n",
       "      <th>Win Ratio</th>\n",
       "    </tr>\n",
       "  </thead>\n",
       "  <tbody>\n",
       "    <tr>\n",
       "      <th>0</th>\n",
       "      <td>1</td>\n",
       "      <td>Bulbasaur</td>\n",
       "      <td>Grass</td>\n",
       "      <td>Poison</td>\n",
       "      <td>low_hp</td>\n",
       "      <td>low_attack</td>\n",
       "      <td>low_defense</td>\n",
       "      <td>low_sp_atk</td>\n",
       "      <td>medium_sp_def</td>\n",
       "      <td>low_speed</td>\n",
       "      <td>1</td>\n",
       "      <td>False</td>\n",
       "      <td>37.0</td>\n",
       "      <td>133.0</td>\n",
       "      <td>low_win_ratio</td>\n",
       "    </tr>\n",
       "    <tr>\n",
       "      <th>1</th>\n",
       "      <td>2</td>\n",
       "      <td>Ivysaur</td>\n",
       "      <td>Grass</td>\n",
       "      <td>Poison</td>\n",
       "      <td>medium_hp</td>\n",
       "      <td>low_attack</td>\n",
       "      <td>medium_defense</td>\n",
       "      <td>medium_sp_atk</td>\n",
       "      <td>medium_sp_def</td>\n",
       "      <td>low_speed</td>\n",
       "      <td>1</td>\n",
       "      <td>False</td>\n",
       "      <td>46.0</td>\n",
       "      <td>121.0</td>\n",
       "      <td>medium_win_ratio</td>\n",
       "    </tr>\n",
       "    <tr>\n",
       "      <th>2</th>\n",
       "      <td>3</td>\n",
       "      <td>Venusaur</td>\n",
       "      <td>Grass</td>\n",
       "      <td>Poison</td>\n",
       "      <td>medium_hp</td>\n",
       "      <td>medium_attack</td>\n",
       "      <td>medium_defense</td>\n",
       "      <td>medium_sp_atk</td>\n",
       "      <td>medium_sp_def</td>\n",
       "      <td>medium_speed</td>\n",
       "      <td>1</td>\n",
       "      <td>False</td>\n",
       "      <td>89.0</td>\n",
       "      <td>132.0</td>\n",
       "      <td>high_win_ratio</td>\n",
       "    </tr>\n",
       "    <tr>\n",
       "      <th>3</th>\n",
       "      <td>4</td>\n",
       "      <td>Mega Venusaur</td>\n",
       "      <td>Grass</td>\n",
       "      <td>Poison</td>\n",
       "      <td>medium_hp</td>\n",
       "      <td>medium_attack</td>\n",
       "      <td>high_defense</td>\n",
       "      <td>medium_sp_atk</td>\n",
       "      <td>high_sp_def</td>\n",
       "      <td>medium_speed</td>\n",
       "      <td>1</td>\n",
       "      <td>False</td>\n",
       "      <td>70.0</td>\n",
       "      <td>125.0</td>\n",
       "      <td>medium_win_ratio</td>\n",
       "    </tr>\n",
       "    <tr>\n",
       "      <th>4</th>\n",
       "      <td>5</td>\n",
       "      <td>Charmander</td>\n",
       "      <td>Fire</td>\n",
       "      <td>NaN</td>\n",
       "      <td>low_hp</td>\n",
       "      <td>low_attack</td>\n",
       "      <td>low_defense</td>\n",
       "      <td>low_sp_atk</td>\n",
       "      <td>low_sp_def</td>\n",
       "      <td>medium_speed</td>\n",
       "      <td>1</td>\n",
       "      <td>False</td>\n",
       "      <td>55.0</td>\n",
       "      <td>112.0</td>\n",
       "      <td>medium_win_ratio</td>\n",
       "    </tr>\n",
       "  </tbody>\n",
       "</table>\n",
       "</div>"
      ],
      "text/plain": [
       "   Index           Name Type 1  Type 2         HP         Attack  \\\n",
       "0      1      Bulbasaur  Grass  Poison     low_hp     low_attack   \n",
       "1      2        Ivysaur  Grass  Poison  medium_hp     low_attack   \n",
       "2      3       Venusaur  Grass  Poison  medium_hp  medium_attack   \n",
       "3      4  Mega Venusaur  Grass  Poison  medium_hp  medium_attack   \n",
       "4      5     Charmander   Fire     NaN     low_hp     low_attack   \n",
       "\n",
       "          Defense        Sp. Atk        Sp. Def         Speed  Generation  \\\n",
       "0     low_defense     low_sp_atk  medium_sp_def     low_speed           1   \n",
       "1  medium_defense  medium_sp_atk  medium_sp_def     low_speed           1   \n",
       "2  medium_defense  medium_sp_atk  medium_sp_def  medium_speed           1   \n",
       "3    high_defense  medium_sp_atk    high_sp_def  medium_speed           1   \n",
       "4     low_defense     low_sp_atk     low_sp_def  medium_speed           1   \n",
       "\n",
       "   Legendary  Win Num  Match Num         Win Ratio  \n",
       "0      False     37.0      133.0     low_win_ratio  \n",
       "1      False     46.0      121.0  medium_win_ratio  \n",
       "2      False     89.0      132.0    high_win_ratio  \n",
       "3      False     70.0      125.0  medium_win_ratio  \n",
       "4      False     55.0      112.0  medium_win_ratio  "
      ]
     },
     "execution_count": 94,
     "metadata": {},
     "output_type": "execute_result"
    }
   ],
   "source": [
    "pokemon_with_labels.head()"
   ]
  },
  {
   "cell_type": "code",
   "execution_count": 95,
   "id": "d03ca8af3c84289c",
   "metadata": {
    "ExecuteTime": {
     "end_time": "2025-04-24T10:32:38.318897Z",
     "start_time": "2025-04-24T10:32:38.304453Z"
    }
   },
   "outputs": [
    {
     "data": {
      "text/html": [
       "<div>\n",
       "<style scoped>\n",
       "    .dataframe tbody tr th:only-of-type {\n",
       "        vertical-align: middle;\n",
       "    }\n",
       "\n",
       "    .dataframe tbody tr th {\n",
       "        vertical-align: top;\n",
       "    }\n",
       "\n",
       "    .dataframe thead th {\n",
       "        text-align: right;\n",
       "    }\n",
       "</style>\n",
       "<table border=\"1\" class=\"dataframe\">\n",
       "  <thead>\n",
       "    <tr style=\"text-align: right;\">\n",
       "      <th></th>\n",
       "      <th>Index</th>\n",
       "      <th>Name</th>\n",
       "      <th>Type 1</th>\n",
       "      <th>Type 2</th>\n",
       "      <th>HP</th>\n",
       "      <th>Attack</th>\n",
       "      <th>Defense</th>\n",
       "      <th>Sp. Atk</th>\n",
       "      <th>Sp. Def</th>\n",
       "      <th>Speed</th>\n",
       "      <th>Generation</th>\n",
       "      <th>Legendary</th>\n",
       "      <th>Win Num</th>\n",
       "      <th>Match Num</th>\n",
       "      <th>Win Ratio</th>\n",
       "    </tr>\n",
       "  </thead>\n",
       "  <tbody>\n",
       "    <tr>\n",
       "      <th>0</th>\n",
       "      <td>1</td>\n",
       "      <td>Bulbasaur</td>\n",
       "      <td>Grass</td>\n",
       "      <td>Poison</td>\n",
       "      <td>45</td>\n",
       "      <td>49</td>\n",
       "      <td>49</td>\n",
       "      <td>65</td>\n",
       "      <td>65</td>\n",
       "      <td>45</td>\n",
       "      <td>1</td>\n",
       "      <td>False</td>\n",
       "      <td>37.0</td>\n",
       "      <td>133.0</td>\n",
       "      <td>0.278195</td>\n",
       "    </tr>\n",
       "    <tr>\n",
       "      <th>1</th>\n",
       "      <td>2</td>\n",
       "      <td>Ivysaur</td>\n",
       "      <td>Grass</td>\n",
       "      <td>Poison</td>\n",
       "      <td>60</td>\n",
       "      <td>62</td>\n",
       "      <td>63</td>\n",
       "      <td>80</td>\n",
       "      <td>80</td>\n",
       "      <td>60</td>\n",
       "      <td>1</td>\n",
       "      <td>False</td>\n",
       "      <td>46.0</td>\n",
       "      <td>121.0</td>\n",
       "      <td>0.380165</td>\n",
       "    </tr>\n",
       "    <tr>\n",
       "      <th>2</th>\n",
       "      <td>3</td>\n",
       "      <td>Venusaur</td>\n",
       "      <td>Grass</td>\n",
       "      <td>Poison</td>\n",
       "      <td>80</td>\n",
       "      <td>82</td>\n",
       "      <td>83</td>\n",
       "      <td>100</td>\n",
       "      <td>100</td>\n",
       "      <td>80</td>\n",
       "      <td>1</td>\n",
       "      <td>False</td>\n",
       "      <td>89.0</td>\n",
       "      <td>132.0</td>\n",
       "      <td>0.674242</td>\n",
       "    </tr>\n",
       "    <tr>\n",
       "      <th>3</th>\n",
       "      <td>4</td>\n",
       "      <td>Mega Venusaur</td>\n",
       "      <td>Grass</td>\n",
       "      <td>Poison</td>\n",
       "      <td>80</td>\n",
       "      <td>100</td>\n",
       "      <td>123</td>\n",
       "      <td>122</td>\n",
       "      <td>120</td>\n",
       "      <td>80</td>\n",
       "      <td>1</td>\n",
       "      <td>False</td>\n",
       "      <td>70.0</td>\n",
       "      <td>125.0</td>\n",
       "      <td>0.560000</td>\n",
       "    </tr>\n",
       "    <tr>\n",
       "      <th>4</th>\n",
       "      <td>5</td>\n",
       "      <td>Charmander</td>\n",
       "      <td>Fire</td>\n",
       "      <td>NaN</td>\n",
       "      <td>39</td>\n",
       "      <td>52</td>\n",
       "      <td>43</td>\n",
       "      <td>60</td>\n",
       "      <td>50</td>\n",
       "      <td>65</td>\n",
       "      <td>1</td>\n",
       "      <td>False</td>\n",
       "      <td>55.0</td>\n",
       "      <td>112.0</td>\n",
       "      <td>0.491071</td>\n",
       "    </tr>\n",
       "  </tbody>\n",
       "</table>\n",
       "</div>"
      ],
      "text/plain": [
       "   Index           Name Type 1  Type 2  HP  Attack  Defense  Sp. Atk  Sp. Def  \\\n",
       "0      1      Bulbasaur  Grass  Poison  45      49       49       65       65   \n",
       "1      2        Ivysaur  Grass  Poison  60      62       63       80       80   \n",
       "2      3       Venusaur  Grass  Poison  80      82       83      100      100   \n",
       "3      4  Mega Venusaur  Grass  Poison  80     100      123      122      120   \n",
       "4      5     Charmander   Fire     NaN  39      52       43       60       50   \n",
       "\n",
       "   Speed  Generation  Legendary  Win Num  Match Num  Win Ratio  \n",
       "0     45           1      False     37.0      133.0   0.278195  \n",
       "1     60           1      False     46.0      121.0   0.380165  \n",
       "2     80           1      False     89.0      132.0   0.674242  \n",
       "3     80           1      False     70.0      125.0   0.560000  \n",
       "4     65           1      False     55.0      112.0   0.491071  "
      ]
     },
     "execution_count": 95,
     "metadata": {},
     "output_type": "execute_result"
    }
   ],
   "source": [
    "pokemon_clean = pd.merge(pokemon_clean, win_count, how='left', left_on='Index', right_on='Winner')\n",
    "pokemon_clean = pd.merge(pokemon_clean, match_count, how='left', left_on='Index', right_on='Index')\n",
    "pokemon_clean['Win Ratio'] = pokemon_clean_2['Win Ratio']\n",
    "pokemon_clean.head()"
   ]
  },
  {
   "cell_type": "code",
   "execution_count": 97,
   "id": "6675a1081d741fe1",
   "metadata": {
    "ExecuteTime": {
     "end_time": "2025-04-24T10:35:41.518543Z",
     "start_time": "2025-04-24T10:35:41.323011Z"
    }
   },
   "outputs": [
    {
     "data": {
      "image/png": "[encoded data removed]",
      "text/plain": [
       "<Figure size 1200x1000 with 2 Axes>"
      ]
     },
     "metadata": {},
     "output_type": "display_data"
    }
   ],
   "source": [
    "# correlation matrix\n",
    "columns_to_correlation = ['HP', 'Attack', 'Defense', 'Sp. Atk', 'Sp. Def', 'Speed', 'Win Ratio']\n",
    "plt.figure(figsize=(12, 10))\n",
    "sns.heatmap(pokemon_clean[columns_to_correlation].corr(), annot=True, fmt='.2f', cmap='coolwarm')\n",
    "plt.title('Correlation Matrix')\n",
    "plt.show()\n"
   ]
  },
  {
   "cell_type": "code",
   "execution_count": 104,
   "id": "a641589b5bbed2d1",
   "metadata": {
    "ExecuteTime": {
     "end_time": "2025-04-24T10:45:57.902368Z",
     "start_time": "2025-04-24T10:45:57.892922Z"
    }
   },
   "outputs": [
    {
     "name": "stdout",
     "output_type": "stream",
     "text": [
      "      Type 1  Win Ratio  count\n",
      "0        Bug   0.426281     69\n",
      "1       Dark   0.609412     31\n",
      "2     Dragon   0.613788     32\n",
      "3   Electric   0.618478     44\n",
      "4      Fairy   0.329300     17\n",
      "5   Fighting   0.445345     26\n",
      "6       Fire   0.579215     52\n",
      "7     Flying   0.765061      4\n",
      "8      Ghost   0.468901     32\n",
      "9      Grass   0.421491     70\n",
      "10    Ground   0.524603     32\n",
      "11       Ice   0.439604     24\n",
      "12    Normal   0.519183     98\n",
      "13    Poison   0.433262     28\n",
      "14   Psychic   0.545747     57\n",
      "15      Rock   0.404852     44\n",
      "16     Steel   0.424529     27\n",
      "17     Water   0.456785    112       Type 2  Win Ratio  count\n",
      "0        Bug   0.439055      3\n",
      "1       Dark   0.594685     20\n",
      "2     Dragon   0.605966     18\n",
      "3   Electric   0.532644      6\n",
      "4      Fairy   0.413326     23\n",
      "5   Fighting   0.676791     26\n",
      "6       Fire   0.633781     12\n",
      "7     Flying   0.656718     97\n",
      "8      Ghost   0.413582     14\n",
      "9      Grass   0.403546     25\n",
      "10    Ground   0.376463     35\n",
      "11       Ice   0.587451     14\n",
      "12    Normal   0.640896      4\n",
      "13    Poison   0.425619     34\n",
      "14   Psychic   0.494596     33\n",
      "15      Rock   0.284633     14\n",
      "16     Steel   0.478114     22\n",
      "17     Water   0.411971     14\n"
     ]
    }
   ],
   "source": [
    "win_ratio_by_type_1 = pokemon_clean.groupby('Type 1')['Win Ratio'].mean().reset_index()\n",
    "win_ratio_by_type_2 = pokemon_clean.groupby('Type 2')['Win Ratio'].mean().reset_index()\n",
    "win_ratio_by_type_1['count'] = pokemon_clean.groupby('Type 1')['Type 1'].count().values\n",
    "win_ratio_by_type_2['count'] = pokemon_clean.groupby('Type 2')['Type 2'].count().values\n",
    "print(win_ratio_by_type_1, win_ratio_by_type_2)"
   ]
  },
  {
   "cell_type": "code",
   "execution_count": 105,
   "id": "cf13afd8d8381d5f",
   "metadata": {
    "ExecuteTime": {
     "end_time": "2025-04-24T10:49:18.801617Z",
     "start_time": "2025-04-24T10:49:18.789320Z"
    }
   },
   "outputs": [
    {
     "data": {
      "text/html": [
       "<div>\n",
       "<style scoped>\n",
       "    .dataframe tbody tr th:only-of-type {\n",
       "        vertical-align: middle;\n",
       "    }\n",
       "\n",
       "    .dataframe tbody tr th {\n",
       "        vertical-align: top;\n",
       "    }\n",
       "\n",
       "    .dataframe thead th {\n",
       "        text-align: right;\n",
       "    }\n",
       "</style>\n",
       "<table border=\"1\" class=\"dataframe\">\n",
       "  <thead>\n",
       "    <tr style=\"text-align: right;\">\n",
       "      <th></th>\n",
       "      <th>Type 1</th>\n",
       "      <th>Win Ratio</th>\n",
       "      <th>count</th>\n",
       "    </tr>\n",
       "  </thead>\n",
       "  <tbody>\n",
       "    <tr>\n",
       "      <th>0</th>\n",
       "      <td>Bug</td>\n",
       "      <td>0.426813</td>\n",
       "      <td>72</td>\n",
       "    </tr>\n",
       "    <tr>\n",
       "      <th>1</th>\n",
       "      <td>Dark</td>\n",
       "      <td>0.603637</td>\n",
       "      <td>51</td>\n",
       "    </tr>\n",
       "    <tr>\n",
       "      <th>2</th>\n",
       "      <td>Dragon</td>\n",
       "      <td>0.610972</td>\n",
       "      <td>50</td>\n",
       "    </tr>\n",
       "    <tr>\n",
       "      <th>3</th>\n",
       "      <td>Electric</td>\n",
       "      <td>0.608178</td>\n",
       "      <td>50</td>\n",
       "    </tr>\n",
       "    <tr>\n",
       "      <th>4</th>\n",
       "      <td>Fairy</td>\n",
       "      <td>0.377615</td>\n",
       "      <td>40</td>\n",
       "    </tr>\n",
       "    <tr>\n",
       "      <th>5</th>\n",
       "      <td>Fighting</td>\n",
       "      <td>0.561068</td>\n",
       "      <td>52</td>\n",
       "    </tr>\n",
       "    <tr>\n",
       "      <th>6</th>\n",
       "      <td>Fire</td>\n",
       "      <td>0.589446</td>\n",
       "      <td>64</td>\n",
       "    </tr>\n",
       "    <tr>\n",
       "      <th>7</th>\n",
       "      <td>Flying</td>\n",
       "      <td>0.661009</td>\n",
       "      <td>101</td>\n",
       "    </tr>\n",
       "    <tr>\n",
       "      <th>8</th>\n",
       "      <td>Ghost</td>\n",
       "      <td>0.452065</td>\n",
       "      <td>46</td>\n",
       "    </tr>\n",
       "    <tr>\n",
       "      <th>9</th>\n",
       "      <td>Grass</td>\n",
       "      <td>0.416769</td>\n",
       "      <td>95</td>\n",
       "    </tr>\n",
       "    <tr>\n",
       "      <th>10</th>\n",
       "      <td>Ground</td>\n",
       "      <td>0.447216</td>\n",
       "      <td>67</td>\n",
       "    </tr>\n",
       "    <tr>\n",
       "      <th>11</th>\n",
       "      <td>Ice</td>\n",
       "      <td>0.494074</td>\n",
       "      <td>38</td>\n",
       "    </tr>\n",
       "    <tr>\n",
       "      <th>12</th>\n",
       "      <td>Normal</td>\n",
       "      <td>0.523956</td>\n",
       "      <td>102</td>\n",
       "    </tr>\n",
       "    <tr>\n",
       "      <th>13</th>\n",
       "      <td>Poison</td>\n",
       "      <td>0.429071</td>\n",
       "      <td>62</td>\n",
       "    </tr>\n",
       "    <tr>\n",
       "      <th>14</th>\n",
       "      <td>Psychic</td>\n",
       "      <td>0.526992</td>\n",
       "      <td>90</td>\n",
       "    </tr>\n",
       "    <tr>\n",
       "      <th>15</th>\n",
       "      <td>Rock</td>\n",
       "      <td>0.375833</td>\n",
       "      <td>58</td>\n",
       "    </tr>\n",
       "    <tr>\n",
       "      <th>16</th>\n",
       "      <td>Steel</td>\n",
       "      <td>0.448587</td>\n",
       "      <td>49</td>\n",
       "    </tr>\n",
       "    <tr>\n",
       "      <th>17</th>\n",
       "      <td>Water</td>\n",
       "      <td>0.451806</td>\n",
       "      <td>126</td>\n",
       "    </tr>\n",
       "  </tbody>\n",
       "</table>\n",
       "</div>"
      ],
      "text/plain": [
       "      Type 1  Win Ratio  count\n",
       "0        Bug   0.426813     72\n",
       "1       Dark   0.603637     51\n",
       "2     Dragon   0.610972     50\n",
       "3   Electric   0.608178     50\n",
       "4      Fairy   0.377615     40\n",
       "5   Fighting   0.561068     52\n",
       "6       Fire   0.589446     64\n",
       "7     Flying   0.661009    101\n",
       "8      Ghost   0.452065     46\n",
       "9      Grass   0.416769     95\n",
       "10    Ground   0.447216     67\n",
       "11       Ice   0.494074     38\n",
       "12    Normal   0.523956    102\n",
       "13    Poison   0.429071     62\n",
       "14   Psychic   0.526992     90\n",
       "15      Rock   0.375833     58\n",
       "16     Steel   0.448587     49\n",
       "17     Water   0.451806    126"
      ]
     },
     "execution_count": 105,
     "metadata": {},
     "output_type": "execute_result"
    }
   ],
   "source": [
    "mean_win_ratio_by_type = win_ratio_by_type_1.copy()\n",
    "mean_win_ratio_by_type['Win Ratio'] = (win_ratio_by_type_1['Win Ratio']* win_ratio_by_type_1['count'] + win_ratio_by_type_2['Win Ratio'] * win_ratio_by_type_2['count']) / (win_ratio_by_type_1['count'] + win_ratio_by_type_2['count'])\n",
    "mean_win_ratio_by_type['count'] = win_ratio_by_type_1['count'] + win_ratio_by_type_2['count']\n",
    "mean_win_ratio_by_type"
   ]
  },
  {
   "cell_type": "code",
   "execution_count": 110,
   "id": "b1f86e12c6cec2fc",
   "metadata": {
    "ExecuteTime": {
     "end_time": "2025-04-24T10:52:34.545716Z",
     "start_time": "2025-04-24T10:52:34.404650Z"
    }
   },
   "outputs": [
    {
     "data": {
      "image/png": "[encoded data removed]",
      "text/plain": [
       "<Figure size 1200x600 with 1 Axes>"
      ]
     },
     "metadata": {},
     "output_type": "display_data"
    }
   ],
   "source": [
    "# plotting the mean win ratio by type\n",
    "mean_win_ratio_by_type = mean_win_ratio_by_type.sort_values('Win Ratio', ascending=False)\n",
    "plt.figure(figsize=(12, 6))\n",
    "sns.barplot(data=mean_win_ratio_by_type, x='Type 1', y='Win Ratio')\n",
    "plt.xticks(rotation=45)\n",
    "plt.title('Mean Win Ratio by Type')\n",
    "plt.xlabel('Type')\n",
    "plt.ylabel('Win Ratio')\n",
    "plt.show()"
   ]
  },
  {
   "cell_type": "code",
   "execution_count": 111,
   "id": "b9b2feab61216744",
   "metadata": {
    "ExecuteTime": {
     "end_time": "2025-04-24T10:59:44.309709Z",
     "start_time": "2025-04-24T10:59:44.300715Z"
    }
   },
   "outputs": [
    {
     "name": "stdout",
     "output_type": "stream",
     "text": [
      "   Has 2 Types  Win Ratio\n",
      "0        False   0.455290\n",
      "1         True   0.523263    Legendary  Win Ratio\n",
      "0      False   0.466012\n",
      "1       True   0.767150\n"
     ]
    }
   ],
   "source": [
    "pokemon_clean['Has 2 Types'] = ~pokemon_clean['Type 2'].isnull()\n",
    "win_ratio_by_types_number = pokemon_clean.groupby('Has 2 Types')['Win Ratio'].mean().reset_index()\n",
    "win_ratio_by_legendary = pokemon_clean.groupby('Legendary')['Win Ratio'].mean().reset_index()\n",
    "print(win_ratio_by_types_number, win_ratio_by_legendary)"
   ]
  },
  {
   "cell_type": "code",
   "execution_count": 118,
   "id": "c01092e1bb904703",
   "metadata": {
    "ExecuteTime": {
     "end_time": "2025-04-24T11:05:46.867540Z",
     "start_time": "2025-04-24T11:05:46.669059Z"
    }
   },
   "outputs": [
    {
     "data": {
      "image/png": "[encoded data removed]",
      "text/plain": [
       "<Figure size 1500x600 with 2 Axes>"
      ]
     },
     "metadata": {},
     "output_type": "display_data"
    }
   ],
   "source": [
    "# plot 2 barplot for win ratio by types number and legendary\n",
    "from matplotlib.ticker import FixedLocator\n",
    "fig, axes = plt.subplots(1, 2, figsize=(15, 6))\n",
    "sns.barplot(data=win_ratio_by_types_number, x='Has 2 Types', y='Win Ratio', ax=axes[0])\n",
    "axes[0].set_ylim(0, 1)\n",
    "axes[0].xaxis.set_major_locator(FixedLocator([0, 1]))\n",
    "axes[0].set_xticklabels(['1 Type', '2 Types'])\n",
    "axes[0].set_title('Win Ratio by number of types')\n",
    "axes[0].set_xlabel('Number of Types')\n",
    "axes[0].set_ylabel('Win Ratio')\n",
    "sns.barplot(data=win_ratio_by_legendary, x='Legendary', y='Win Ratio', ax=axes[1])\n",
    "axes[1].set_ylim(0, 1)\n",
    "axes[1].set_title('Win Ratio by being legendary')\n",
    "axes[1].set_xlabel('Legendary')\n",
    "axes[1].set_ylabel('Win Ratio')\n",
    "plt.tight_layout()"
   ]
  },
  {
   "cell_type": "code",
   "execution_count": 119,
   "id": "d9c08478d9511a52",
   "metadata": {
    "ExecuteTime": {
     "end_time": "2025-04-24T11:06:57.689167Z",
     "start_time": "2025-04-24T11:06:57.680024Z"
    }
   },
   "outputs": [],
   "source": [
    "pokemon_with_labels['Has 2 Types'] = pokemon_clean['Has 2 Types']\n",
    "pokemon_with_labels.to_csv('pokemon_with_labels.csv')"
   ]
  },
  {
   "cell_type": "code",
   "execution_count": 122,
   "id": "e5f7bcee526e2275",
   "metadata": {
    "ExecuteTime": {
     "end_time": "2025-04-24T11:14:41.871043Z",
     "start_time": "2025-04-24T11:14:41.855502Z"
    }
   },
   "outputs": [
    {
     "name": "stdout",
     "output_type": "stream",
     "text": [
      "Legendary    False  True \n",
      "Has 2 Types              \n",
      "False          360     25\n",
      "True           374     40\n"
     ]
    }
   ],
   "source": [
    "# Frequency table between has two types and legendary\n",
    "frequency_table = pd.crosstab(pokemon_with_labels['Has 2 Types'], pokemon_with_labels['Legendary'])\n",
    "print(frequency_table)"
   ]
  },
  {
   "cell_type": "code",
   "execution_count": 123,
   "id": "72c8e31f4552bd58",
   "metadata": {
    "ExecuteTime": {
     "end_time": "2025-04-24T11:27:59.858989Z",
     "start_time": "2025-04-24T11:27:59.850398Z"
    }
   },
   "outputs": [
    {
     "name": "stdout",
     "output_type": "stream",
     "text": [
      "0.47202\n"
     ]
    }
   ],
   "source": [
    "combats_expanded = combats.copy()\n",
    "combats_expanded['Has First Won'] = combats_expanded['Winner'] == combats_expanded['First_pokemon']\n",
    "first_winning_ratio = combats_expanded['Has First Won'].sum() / combats_expanded.shape[0]\n",
    "print(first_winning_ratio)"
   ]
  },
  {
   "cell_type": "code",
   "execution_count": 124,
   "id": "2a8b5c7d63130ca2",
   "metadata": {
    "ExecuteTime": {
     "end_time": "2025-04-24T11:52:38.443822Z",
     "start_time": "2025-04-24T11:52:38.419857Z"
    }
   },
   "outputs": [
    {
     "data": {
      "text/html": [
       "<div>\n",
       "<style scoped>\n",
       "    .dataframe tbody tr th:only-of-type {\n",
       "        vertical-align: middle;\n",
       "    }\n",
       "\n",
       "    .dataframe tbody tr th {\n",
       "        vertical-align: top;\n",
       "    }\n",
       "\n",
       "    .dataframe thead th {\n",
       "        text-align: right;\n",
       "    }\n",
       "</style>\n",
       "<table border=\"1\" class=\"dataframe\">\n",
       "  <thead>\n",
       "    <tr style=\"text-align: right;\">\n",
       "      <th></th>\n",
       "      <th>First_pokemon</th>\n",
       "      <th>Second_pokemon</th>\n",
       "      <th>Winner</th>\n",
       "      <th>Has First Won</th>\n",
       "      <th>Loser</th>\n",
       "      <th>Type 1 Winner</th>\n",
       "    </tr>\n",
       "  </thead>\n",
       "  <tbody>\n",
       "    <tr>\n",
       "      <th>0</th>\n",
       "      <td>266</td>\n",
       "      <td>298</td>\n",
       "      <td>298</td>\n",
       "      <td>False</td>\n",
       "      <td>298</td>\n",
       "      <td>Grass</td>\n",
       "    </tr>\n",
       "    <tr>\n",
       "      <th>1</th>\n",
       "      <td>702</td>\n",
       "      <td>701</td>\n",
       "      <td>701</td>\n",
       "      <td>False</td>\n",
       "      <td>701</td>\n",
       "      <td>Rock</td>\n",
       "    </tr>\n",
       "    <tr>\n",
       "      <th>2</th>\n",
       "      <td>191</td>\n",
       "      <td>668</td>\n",
       "      <td>668</td>\n",
       "      <td>False</td>\n",
       "      <td>668</td>\n",
       "      <td>Psychic</td>\n",
       "    </tr>\n",
       "    <tr>\n",
       "      <th>3</th>\n",
       "      <td>237</td>\n",
       "      <td>683</td>\n",
       "      <td>683</td>\n",
       "      <td>False</td>\n",
       "      <td>683</td>\n",
       "      <td>Dragon</td>\n",
       "    </tr>\n",
       "    <tr>\n",
       "      <th>4</th>\n",
       "      <td>151</td>\n",
       "      <td>231</td>\n",
       "      <td>151</td>\n",
       "      <td>True</td>\n",
       "      <td>151</td>\n",
       "      <td>Rock</td>\n",
       "    </tr>\n",
       "  </tbody>\n",
       "</table>\n",
       "</div>"
      ],
      "text/plain": [
       "   First_pokemon  Second_pokemon  Winner  Has First Won  Loser Type 1 Winner\n",
       "0            266             298     298          False    298         Grass\n",
       "1            702             701     701          False    701          Rock\n",
       "2            191             668     668          False    668       Psychic\n",
       "3            237             683     683          False    683        Dragon\n",
       "4            151             231     151           True    151          Rock"
      ]
     },
     "execution_count": 124,
     "metadata": {},
     "output_type": "execute_result"
    }
   ],
   "source": [
    "combats_expanded['Loser'] = combats_expanded['First_pokemon'].where(combats_expanded['Has First Won'], combats_expanded['Second_pokemon'])\n",
    "combats_expanded['Type 1 Winner'] = combats_expanded['Winner'].map(pokemon_clean.set_index('Index')['Type 1'])\n",
    "combats_expanded.head()"
   ]
  },
  {
   "cell_type": "code",
   "execution_count": 127,
   "id": "902bab034b4f1851",
   "metadata": {
    "ExecuteTime": {
     "end_time": "2025-04-24T11:54:12.833868Z",
     "start_time": "2025-04-24T11:54:12.818459Z"
    }
   },
   "outputs": [
    {
     "data": {
      "text/html": [
       "<div>\n",
       "<style scoped>\n",
       "    .dataframe tbody tr th:only-of-type {\n",
       "        vertical-align: middle;\n",
       "    }\n",
       "\n",
       "    .dataframe tbody tr th {\n",
       "        vertical-align: top;\n",
       "    }\n",
       "\n",
       "    .dataframe thead th {\n",
       "        text-align: right;\n",
       "    }\n",
       "</style>\n",
       "<table border=\"1\" class=\"dataframe\">\n",
       "  <thead>\n",
       "    <tr style=\"text-align: right;\">\n",
       "      <th></th>\n",
       "      <th>First_pokemon</th>\n",
       "      <th>Second_pokemon</th>\n",
       "      <th>Winner</th>\n",
       "      <th>Has First Won</th>\n",
       "      <th>Loser</th>\n",
       "      <th>Type 1 Winner</th>\n",
       "      <th>Type 2 Winner</th>\n",
       "      <th>Type 1 Loser</th>\n",
       "      <th>Type 2 Loser</th>\n",
       "    </tr>\n",
       "  </thead>\n",
       "  <tbody>\n",
       "    <tr>\n",
       "      <th>0</th>\n",
       "      <td>266</td>\n",
       "      <td>298</td>\n",
       "      <td>298</td>\n",
       "      <td>False</td>\n",
       "      <td>298</td>\n",
       "      <td>Grass</td>\n",
       "      <td>Dark</td>\n",
       "      <td>Grass</td>\n",
       "      <td>Dark</td>\n",
       "    </tr>\n",
       "    <tr>\n",
       "      <th>1</th>\n",
       "      <td>702</td>\n",
       "      <td>701</td>\n",
       "      <td>701</td>\n",
       "      <td>False</td>\n",
       "      <td>701</td>\n",
       "      <td>Rock</td>\n",
       "      <td>Fighting</td>\n",
       "      <td>Rock</td>\n",
       "      <td>Fighting</td>\n",
       "    </tr>\n",
       "    <tr>\n",
       "      <th>2</th>\n",
       "      <td>191</td>\n",
       "      <td>668</td>\n",
       "      <td>668</td>\n",
       "      <td>False</td>\n",
       "      <td>668</td>\n",
       "      <td>Psychic</td>\n",
       "      <td>NaN</td>\n",
       "      <td>Psychic</td>\n",
       "      <td>NaN</td>\n",
       "    </tr>\n",
       "    <tr>\n",
       "      <th>3</th>\n",
       "      <td>237</td>\n",
       "      <td>683</td>\n",
       "      <td>683</td>\n",
       "      <td>False</td>\n",
       "      <td>683</td>\n",
       "      <td>Dragon</td>\n",
       "      <td>NaN</td>\n",
       "      <td>Dragon</td>\n",
       "      <td>NaN</td>\n",
       "    </tr>\n",
       "    <tr>\n",
       "      <th>4</th>\n",
       "      <td>151</td>\n",
       "      <td>231</td>\n",
       "      <td>151</td>\n",
       "      <td>True</td>\n",
       "      <td>151</td>\n",
       "      <td>Rock</td>\n",
       "      <td>Water</td>\n",
       "      <td>Rock</td>\n",
       "      <td>Water</td>\n",
       "    </tr>\n",
       "  </tbody>\n",
       "</table>\n",
       "</div>"
      ],
      "text/plain": [
       "   First_pokemon  Second_pokemon  Winner  Has First Won  Loser Type 1 Winner  \\\n",
       "0            266             298     298          False    298         Grass   \n",
       "1            702             701     701          False    701          Rock   \n",
       "2            191             668     668          False    668       Psychic   \n",
       "3            237             683     683          False    683        Dragon   \n",
       "4            151             231     151           True    151          Rock   \n",
       "\n",
       "  Type 2 Winner Type 1 Loser Type 2 Loser  \n",
       "0          Dark        Grass         Dark  \n",
       "1      Fighting         Rock     Fighting  \n",
       "2           NaN      Psychic          NaN  \n",
       "3           NaN       Dragon          NaN  \n",
       "4         Water         Rock        Water  "
      ]
     },
     "execution_count": 127,
     "metadata": {},
     "output_type": "execute_result"
    }
   ],
   "source": [
    "combats_expanded['Type 2 Winner'] = combats_expanded['Winner'].map(pokemon_clean.set_index('Index')['Type 2'])\n",
    "combats_expanded['Type 1 Loser'] = combats_expanded['Loser'].map(pokemon_clean.set_index('Index')['Type 1'])\n",
    "combats_expanded['Type 2 Loser'] = combats_expanded['Loser'].map(pokemon_clean.set_index('Index')['Type 2'])\n",
    "combats_expanded.head()"
   ]
  }
 ],
 "metadata": {
  "kernelspec": {
   "display_name": "Python 3",
   "language": "python",
   "name": "python3"
  },
  "language_info": {
   "codemirror_mode": {
    "name": "ipython",
    "version": 3
   },
   "file_extension": ".py",
   "mimetype": "text/x-python",
   "name": "python",
   "nbconvert_exporter": "python",
   "pygments_lexer": "ipython3",
   "version": "3.12.7"
  }
 },
 "nbformat": 4,
 "nbformat_minor": 5
}
