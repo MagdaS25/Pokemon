{
 "cells": [
  {
   "cell_type": "code",
   "id": "initial_id",
   "metadata": {
    "collapsed": true,
    "ExecuteTime": {
     "end_time": "2025-04-26T11:35:13.826099Z",
     "start_time": "2025-04-26T11:35:13.800399Z"
    }
   },
   "source": [
    "import pandas as pd\n",
    "pokemons=pd.read_csv('Resources/pokemon.csv')\n",
    "combats=pd.read_csv('Resources/combats.csv')\n",
    "tests=pd.read_csv('tests.csv')\n",
    "print(pokemons.isnull().sum())\n",
    "\n",
    "missing_pokemon = pokemons[pokemons['Name'].isnull()]\n",
    "display(missing_pokemon)\n",
    "pokemons.loc[pokemons['#'] == 63, 'Name'] = 'Primeape'\n",
    "print(pokemons[pokemons['#'] == 63])\n",
    "#it is primeape that the name is missing"
   ],
   "outputs": [
    {
     "name": "stdout",
     "output_type": "stream",
     "text": [
      "#               0\n",
      "Name            1\n",
      "Type 1          0\n",
      "Type 2        386\n",
      "HP              0\n",
      "Attack          0\n",
      "Defense         0\n",
      "Sp. Atk         0\n",
      "Sp. Def         0\n",
      "Speed           0\n",
      "Generation      0\n",
      "Legendary       0\n",
      "dtype: int64\n"
     ]
    },
    {
     "data": {
      "text/plain": [
       "     # Name    Type 1 Type 2  HP  Attack  Defense  Sp. Atk  Sp. Def  Speed  \\\n",
       "62  63  NaN  Fighting    NaN  65     105       60       60       70     95   \n",
       "\n",
       "    Generation  Legendary  \n",
       "62           1      False  "
      ],
      "text/html": [
       "<div>\n",
       "<style scoped>\n",
       "    .dataframe tbody tr th:only-of-type {\n",
       "        vertical-align: middle;\n",
       "    }\n",
       "\n",
       "    .dataframe tbody tr th {\n",
       "        vertical-align: top;\n",
       "    }\n",
       "\n",
       "    .dataframe thead th {\n",
       "        text-align: right;\n",
       "    }\n",
       "</style>\n",
       "<table border=\"1\" class=\"dataframe\">\n",
       "  <thead>\n",
       "    <tr style=\"text-align: right;\">\n",
       "      <th></th>\n",
       "      <th>#</th>\n",
       "      <th>Name</th>\n",
       "      <th>Type 1</th>\n",
       "      <th>Type 2</th>\n",
       "      <th>HP</th>\n",
       "      <th>Attack</th>\n",
       "      <th>Defense</th>\n",
       "      <th>Sp. Atk</th>\n",
       "      <th>Sp. Def</th>\n",
       "      <th>Speed</th>\n",
       "      <th>Generation</th>\n",
       "      <th>Legendary</th>\n",
       "    </tr>\n",
       "  </thead>\n",
       "  <tbody>\n",
       "    <tr>\n",
       "      <th>62</th>\n",
       "      <td>63</td>\n",
       "      <td>NaN</td>\n",
       "      <td>Fighting</td>\n",
       "      <td>NaN</td>\n",
       "      <td>65</td>\n",
       "      <td>105</td>\n",
       "      <td>60</td>\n",
       "      <td>60</td>\n",
       "      <td>70</td>\n",
       "      <td>95</td>\n",
       "      <td>1</td>\n",
       "      <td>False</td>\n",
       "    </tr>\n",
       "  </tbody>\n",
       "</table>\n",
       "</div>"
      ]
     },
     "metadata": {},
     "output_type": "display_data"
    },
    {
     "name": "stdout",
     "output_type": "stream",
     "text": [
      "     #      Name    Type 1 Type 2  HP  Attack  Defense  Sp. Atk  Sp. Def  \\\n",
      "62  63  Primeape  Fighting    NaN  65     105       60       60       70   \n",
      "\n",
      "    Speed  Generation  Legendary  \n",
      "62     95           1      False  \n"
     ]
    }
   ],
   "execution_count": 36
  },
  {
   "metadata": {
    "ExecuteTime": {
     "end_time": "2025-04-26T11:13:38.139789Z",
     "start_time": "2025-04-26T11:13:38.134652Z"
    }
   },
   "cell_type": "code",
   "source": [
    "print(\"Missing values in Fights dataset:\")\n",
    "print(combats.isnull().sum())\n",
    "\n",
    "print(\"Missing values in tests dataset:\")\n",
    "print(tests.isnull().sum())"
   ],
   "id": "e8cd9856309de8a9",
   "outputs": [
    {
     "name": "stdout",
     "output_type": "stream",
     "text": [
      "Missing values in Fights dataset:\n",
      "First_pokemon     0\n",
      "Second_pokemon    0\n",
      "Winner            0\n",
      "dtype: int64\n",
      "Missing values in tests dataset:\n",
      "First_pokemon     0\n",
      "Second_pokemon    0\n",
      "dtype: int64\n"
     ]
    }
   ],
   "execution_count": 28
  },
  {
   "cell_type": "code",
   "source": [
    "# to są walki primeapa, bo jesli usunielibysmy jego z pokemenow to tez trzebaby bylo stasd usunac\n",
    "missing_name_ids = missing_ids = missing_pokemon['#'].values\n",
    "fights_with_missing = combats[\n",
    "    (combats['First_pokemon'].isin(missing_name_ids)) |\n",
    "    (combats['Second_pokemon'].isin(missing_name_ids))\n",
    "]\n",
    "display(fights_with_missing)\n",
    "print(len(fights_with_missing))"
   ],
   "metadata": {
    "collapsed": false,
    "ExecuteTime": {
     "end_time": "2025-04-26T11:01:01.241995Z",
     "start_time": "2025-04-26T11:01:01.233416Z"
    }
   },
   "id": "8421a405f11c149f",
   "outputs": [
    {
     "data": {
      "text/plain": [
       "       First_pokemon  Second_pokemon  Winner\n",
       "113               63             297      63\n",
       "246               63              82      63\n",
       "974               63             399      63\n",
       "1144              63             428     428\n",
       "1507             369              63      63\n",
       "...              ...             ...     ...\n",
       "48228            374              63      63\n",
       "48637             63             170      63\n",
       "48830             63             358      63\n",
       "49343             63             108      63\n",
       "49896             63             205     205\n",
       "\n",
       "[108 rows x 3 columns]"
      ],
      "text/html": [
       "<div>\n",
       "<style scoped>\n",
       "    .dataframe tbody tr th:only-of-type {\n",
       "        vertical-align: middle;\n",
       "    }\n",
       "\n",
       "    .dataframe tbody tr th {\n",
       "        vertical-align: top;\n",
       "    }\n",
       "\n",
       "    .dataframe thead th {\n",
       "        text-align: right;\n",
       "    }\n",
       "</style>\n",
       "<table border=\"1\" class=\"dataframe\">\n",
       "  <thead>\n",
       "    <tr style=\"text-align: right;\">\n",
       "      <th></th>\n",
       "      <th>First_pokemon</th>\n",
       "      <th>Second_pokemon</th>\n",
       "      <th>Winner</th>\n",
       "    </tr>\n",
       "  </thead>\n",
       "  <tbody>\n",
       "    <tr>\n",
       "      <th>113</th>\n",
       "      <td>63</td>\n",
       "      <td>297</td>\n",
       "      <td>63</td>\n",
       "    </tr>\n",
       "    <tr>\n",
       "      <th>246</th>\n",
       "      <td>63</td>\n",
       "      <td>82</td>\n",
       "      <td>63</td>\n",
       "    </tr>\n",
       "    <tr>\n",
       "      <th>974</th>\n",
       "      <td>63</td>\n",
       "      <td>399</td>\n",
       "      <td>63</td>\n",
       "    </tr>\n",
       "    <tr>\n",
       "      <th>1144</th>\n",
       "      <td>63</td>\n",
       "      <td>428</td>\n",
       "      <td>428</td>\n",
       "    </tr>\n",
       "    <tr>\n",
       "      <th>1507</th>\n",
       "      <td>369</td>\n",
       "      <td>63</td>\n",
       "      <td>63</td>\n",
       "    </tr>\n",
       "    <tr>\n",
       "      <th>...</th>\n",
       "      <td>...</td>\n",
       "      <td>...</td>\n",
       "      <td>...</td>\n",
       "    </tr>\n",
       "    <tr>\n",
       "      <th>48228</th>\n",
       "      <td>374</td>\n",
       "      <td>63</td>\n",
       "      <td>63</td>\n",
       "    </tr>\n",
       "    <tr>\n",
       "      <th>48637</th>\n",
       "      <td>63</td>\n",
       "      <td>170</td>\n",
       "      <td>63</td>\n",
       "    </tr>\n",
       "    <tr>\n",
       "      <th>48830</th>\n",
       "      <td>63</td>\n",
       "      <td>358</td>\n",
       "      <td>63</td>\n",
       "    </tr>\n",
       "    <tr>\n",
       "      <th>49343</th>\n",
       "      <td>63</td>\n",
       "      <td>108</td>\n",
       "      <td>63</td>\n",
       "    </tr>\n",
       "    <tr>\n",
       "      <th>49896</th>\n",
       "      <td>63</td>\n",
       "      <td>205</td>\n",
       "      <td>205</td>\n",
       "    </tr>\n",
       "  </tbody>\n",
       "</table>\n",
       "<p>108 rows × 3 columns</p>\n",
       "</div>"
      ]
     },
     "metadata": {},
     "output_type": "display_data"
    },
    {
     "name": "stdout",
     "output_type": "stream",
     "text": [
      "108\n"
     ]
    }
   ],
   "execution_count": 22
  },
  {
   "cell_type": "code",
   "source": [
    "corrupted_fights = combats[\n",
    "    (combats['Winner'] != combats['First_pokemon']) &\n",
    "    (combats['Winner'] != combats['Second_pokemon'])\n",
    "]\n",
    "\n",
    "print(\"Corrupted fights (winner not one of the two fighters):\")\n",
    "print(corrupted_fights)\n",
    "\n",
    "self_fights = combats[combats['First_pokemon'] == combats['Second_pokemon']]\n",
    "\n",
    "print(\"Fights where the same Pokémon is fighting itself:\")\n",
    "print(self_fights)\n",
    "\n",
    "test_self_fights = tests[tests['First_pokemon'] == tests['Second_pokemon']]\n",
    "\n",
    "print(\"Fights where the same Pokémon is fighting itself:\")\n",
    "print(self_fights)\n",
    "print(\"Tests where the same Pokémon is fighting itself:\")\n",
    "print(test_self_fights)"
   ],
   "metadata": {
    "collapsed": false,
    "ExecuteTime": {
     "end_time": "2025-04-26T11:16:12.496281Z",
     "start_time": "2025-04-26T11:16:12.489591Z"
    }
   },
   "id": "23b137a6b6ce23cc",
   "outputs": [
    {
     "name": "stdout",
     "output_type": "stream",
     "text": [
      "Corrupted fights (winner not one of the two fighters):\n",
      "Empty DataFrame\n",
      "Columns: [First_pokemon, Second_pokemon, Winner]\n",
      "Index: []\n",
      "Fights where the same Pokémon is fighting itself:\n",
      "Empty DataFrame\n",
      "Columns: [First_pokemon, Second_pokemon, Winner]\n",
      "Index: []\n",
      "Fights where the same Pokémon is fighting itself:\n",
      "Empty DataFrame\n",
      "Columns: [First_pokemon, Second_pokemon, Winner]\n",
      "Index: []\n",
      "Tests where the same Pokémon is fighting itself:\n",
      "Empty DataFrame\n",
      "Columns: [First_pokemon, Second_pokemon]\n",
      "Index: []\n"
     ]
    }
   ],
   "execution_count": 30
  },
  {
   "metadata": {
    "ExecuteTime": {
     "end_time": "2025-04-26T11:03:01.737079Z",
     "start_time": "2025-04-26T11:03:01.727777Z"
    }
   },
   "cell_type": "code",
   "source": [
    "same_type_pokemon = pokemons[pokemons['Type 1'] == pokemons['Type 2']]\n",
    "\n",
    "print(\"Pokémon with same Type 1 and Type 2:\")\n",
    "print(same_type_pokemon[['Name', 'Type 1', 'Type 2']])"
   ],
   "id": "dd61ad58c52d3c3c",
   "outputs": [
    {
     "name": "stdout",
     "output_type": "stream",
     "text": [
      "Pokémon with same Type 1 and Type 2:\n",
      "Empty DataFrame\n",
      "Columns: [Name, Type 1, Type 2]\n",
      "Index: []\n"
     ]
    }
   ],
   "execution_count": 23
  },
  {
   "metadata": {
    "ExecuteTime": {
     "end_time": "2025-04-26T11:18:46.318817Z",
     "start_time": "2025-04-26T11:18:46.311459Z"
    }
   },
   "cell_type": "code",
   "source": [
    "duplicate_pokemon = pokemons[pokemons.duplicated(subset='#', keep=False)]\n",
    "duplicate_name_pokemon = pokemons[pokemons.duplicated(subset='Name', keep=False)]\n",
    "print(\"Pokémon with duplicate IDs:\")\n",
    "print(duplicate_pokemon[['#', 'Name', 'Type 1', 'Type 2']])\n",
    "print(\"Pokémon with duplicate Names:\")\n",
    "print(duplicate_name_pokemon[['#', 'Name', 'Type 1', 'Type 2']])"
   ],
   "id": "c29937f81369b28e",
   "outputs": [
    {
     "name": "stdout",
     "output_type": "stream",
     "text": [
      "Pokémon with duplicate IDs:\n",
      "Empty DataFrame\n",
      "Columns: [#, Name, Type 1, Type 2]\n",
      "Index: []\n",
      "Pokémon with duplicate IDs:\n",
      "Empty DataFrame\n",
      "Columns: [#, Name, Type 1, Type 2]\n",
      "Index: []\n"
     ]
    }
   ],
   "execution_count": 31
  },
  {
   "metadata": {
    "ExecuteTime": {
     "end_time": "2025-04-26T11:32:32.011322Z",
     "start_time": "2025-04-26T11:32:31.985913Z"
    }
   },
   "cell_type": "code",
   "source": [
    "pokemons.info()\n",
    "combats.info()\n",
    "tests.info()\n"
   ],
   "id": "bbb8566df532381e",
   "outputs": [
    {
     "name": "stdout",
     "output_type": "stream",
     "text": [
      "<class 'pandas.core.frame.DataFrame'>\n",
      "RangeIndex: 800 entries, 0 to 799\n",
      "Data columns (total 12 columns):\n",
      " #   Column      Non-Null Count  Dtype \n",
      "---  ------      --------------  ----- \n",
      " 0   #           800 non-null    int64 \n",
      " 1   Name        799 non-null    object\n",
      " 2   Type 1      800 non-null    object\n",
      " 3   Type 2      414 non-null    object\n",
      " 4   HP          800 non-null    int64 \n",
      " 5   Attack      800 non-null    int64 \n",
      " 6   Defense     800 non-null    int64 \n",
      " 7   Sp. Atk     800 non-null    int64 \n",
      " 8   Sp. Def     800 non-null    int64 \n",
      " 9   Speed       800 non-null    int64 \n",
      " 10  Generation  800 non-null    int64 \n",
      " 11  Legendary   800 non-null    bool  \n",
      "dtypes: bool(1), int64(8), object(3)\n",
      "memory usage: 69.7+ KB\n",
      "<class 'pandas.core.frame.DataFrame'>\n",
      "RangeIndex: 50000 entries, 0 to 49999\n",
      "Data columns (total 3 columns):\n",
      " #   Column          Non-Null Count  Dtype\n",
      "---  ------          --------------  -----\n",
      " 0   First_pokemon   50000 non-null  int64\n",
      " 1   Second_pokemon  50000 non-null  int64\n",
      " 2   Winner          50000 non-null  int64\n",
      "dtypes: int64(3)\n",
      "memory usage: 1.1 MB\n",
      "<class 'pandas.core.frame.DataFrame'>\n",
      "RangeIndex: 10000 entries, 0 to 9999\n",
      "Data columns (total 2 columns):\n",
      " #   Column          Non-Null Count  Dtype\n",
      "---  ------          --------------  -----\n",
      " 0   First_pokemon   10000 non-null  int64\n",
      " 1   Second_pokemon  10000 non-null  int64\n",
      "dtypes: int64(2)\n",
      "memory usage: 156.4 KB\n"
     ]
    }
   ],
   "execution_count": 33
  },
  {
   "metadata": {
    "ExecuteTime": {
     "end_time": "2025-04-26T11:48:44.255325Z",
     "start_time": "2025-04-26T11:48:44.251447Z"
    }
   },
   "cell_type": "code",
   "source": [
    "type1_unique = pokemons['Type 1'].unique()\n",
    "type2_unique = pokemons['Type 2'].unique()\n",
    "\n",
    "print(type1_unique)\n",
    "print(type2_unique)"
   ],
   "id": "7319ad09306710a0",
   "outputs": [
    {
     "name": "stdout",
     "output_type": "stream",
     "text": [
      "['Grass' 'Fire' 'Water' 'Bug' 'Normal' 'Poison' 'Electric' 'Ground'\n",
      " 'Fairy' 'Fighting' 'Psychic' 'Rock' 'Ghost' 'Ice' 'Dragon' 'Dark' 'Steel'\n",
      " 'Flying']\n",
      "['Poison' nan 'Flying' 'Dragon' 'Ground' 'Fairy' 'Grass' 'Fighting'\n",
      " 'Psychic' 'Steel' 'Ice' 'Rock' 'Dark' 'Water' 'Electric' 'Fire' 'Ghost'\n",
      " 'Bug' 'Normal']\n"
     ]
    }
   ],
   "execution_count": 39
  },
  {
   "metadata": {
    "ExecuteTime": {
     "end_time": "2025-04-26T11:50:41.713112Z",
     "start_time": "2025-04-26T11:50:40.570145Z"
    }
   },
   "cell_type": "code",
   "source": [
    "import matplotlib.pyplot as plt\n",
    "import seaborn as sns\n",
    "\n",
    "# List of numerical stats columns\n",
    "stats_columns = ['HP', 'Attack', 'Defense', 'Sp. Atk', 'Sp. Def', 'Speed']\n",
    "\n",
    "# Set the plot size\n",
    "plt.figure(figsize=(12, 6))\n",
    "\n",
    "# Create the boxplot\n",
    "sns.boxplot(data=pokemons[stats_columns])\n",
    "\n",
    "# Set the title and labels\n",
    "plt.title('Boxplots of Pokémon Statistics')\n",
    "plt.xlabel('Statistic')\n",
    "plt.ylabel('Value')\n",
    "\n",
    "# Show the plot\n",
    "plt.show()"
   ],
   "id": "93ab1ab5d7306b04",
   "outputs": [
    {
     "data": {
      "text/plain": [
       "<Figure size 1200x600 with 1 Axes>"
      ],
      "image/png": "[encoded data removed]"
     },
     "metadata": {},
     "output_type": "display_data"
    }
   ],
   "execution_count": 40
  },
  {
   "metadata": {
    "ExecuteTime": {
     "end_time": "2025-04-26T11:53:04.695345Z",
     "start_time": "2025-04-26T11:53:04.668494Z"
    }
   },
   "cell_type": "code",
   "source": [
    "\n",
    "\n",
    "\n",
    "def find_outliers(df, column):\n",
    "    Q1 = df[column].quantile(0.25)\n",
    "    Q3 = df[column].quantile(0.75)\n",
    "    IQR = Q3 - Q1\n",
    "    lower_bound = Q1 - 1.5 * IQR\n",
    "    upper_bound = Q3 + 1.5 * IQR\n",
    "    outliers = df[(df[column] < lower_bound) | (df[column] > upper_bound)]\n",
    "    return outliers\n",
    "\n",
    "for stat in stats_columns:\n",
    "    outliers = find_outliers(pokemons, stat)\n",
    "    outliers=outliers.sort_values(stat, ascending=False)\n",
    "    print(f\"\\nOutliers for {stat}:\")\n",
    "    print(outliers[['Name', stat]])"
   ],
   "id": "9e8e21d3e37fceab",
   "outputs": [
    {
     "name": "stdout",
     "output_type": "stream",
     "text": [
      "\n",
      "Outliers for HP:\n",
      "                       Name   HP\n",
      "261                 Blissey  255\n",
      "121                 Chansey  250\n",
      "217               Wobbuffet  190\n",
      "351                 Wailord  170\n",
      "655               Alomomola  165\n",
      "155                 Snorlax  160\n",
      "544  Giratina Altered Forme  150\n",
      "545   Giratina Origin Forme  150\n",
      "313                 Slaking  150\n",
      "473                Drifblim  150\n",
      "321                Hariyama  144\n",
      "45               Wigglytuff  140\n",
      "495                Munchlax  135\n",
      "142                  Lapras  130\n",
      "145                Vaporeon  130\n",
      "350                 Wailmer  130\n",
      "792                 Xerneas  126\n",
      "793                 Yveltal  126\n",
      "316                Shedinja    1\n",
      "\n",
      "Outliers for Attack:\n",
      "                    Name  Attack\n",
      "163        Mega Mewtwo X     190\n",
      "232       Mega Heracross     185\n",
      "424       Primal Groudon     180\n",
      "426        Mega Rayquaza     180\n",
      "429   DeoxysAttack Forme     180\n",
      "494        Mega Garchomp     170\n",
      "711  Kyurem Black Kyurem     170\n",
      "\n",
      "Outliers for Defense:\n",
      "                     Name  Defense\n",
      "224          Mega Steelix      230\n",
      "333           Mega Aggron      230\n",
      "230               Shuckle      230\n",
      "223               Steelix      200\n",
      "414              Regirock      200\n",
      "789               Avalugg      184\n",
      "332                Aggron      180\n",
      "87           Mega Slowbro      180\n",
      "98               Cloyster      180\n",
      "456             Bastiodon      168\n",
      "103                  Onix      160\n",
      "430  Deoxys Defense Forme      160\n",
      "424        Primal Groudon      160\n",
      "\n",
      "Outliers for Sp. Atk:\n",
      "                    Name  Sp. Atk\n",
      "164        Mega Mewtwo Y      194\n",
      "422        Primal Kyogre      180\n",
      "429   DeoxysAttack Forme      180\n",
      "426        Mega Rayquaza      180\n",
      "71         Mega Alakazam      175\n",
      "102          Mega Gengar      170\n",
      "712  Kyurem White Kyurem      170\n",
      "798        Hoopa Unbound      170\n",
      "306       Mega Gardevoir      165\n",
      "196        Mega Ampharos      165\n",
      "\n",
      "Outliers for Sp. Def:\n",
      "                     Name  Sp. Def\n",
      "230               Shuckle      230\n",
      "415                Regice      200\n",
      "422         Primal Kyogre      160\n",
      "430  Deoxys Defense Forme      160\n",
      "269                 Lugia      154\n",
      "270                 Ho-oh      154\n",
      "739               Florges      154\n",
      "\n",
      "Outliers for Speed:\n",
      "                   Name  Speed\n",
      "431  Deoxys Speed Forme    180\n",
      "315             Ninjask    160\n"
     ]
    }
   ],
   "execution_count": 42
  }
 ],
 "metadata": {
  "kernelspec": {
   "display_name": "Python 3",
   "language": "python",
   "name": "python3"
  },
  "language_info": {
   "codemirror_mode": {
    "name": "ipython",
    "version": 2
   },
   "file_extension": ".py",
   "mimetype": "text/x-python",
   "name": "python",
   "nbconvert_exporter": "python",
   "pygments_lexer": "ipython2",
   "version": "2.7.6"
  }
 },
 "nbformat": 4,
 "nbformat_minor": 5
}
